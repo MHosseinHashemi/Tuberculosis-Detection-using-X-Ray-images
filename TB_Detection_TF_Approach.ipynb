{
  "cells": [
    {
      "cell_type": "markdown",
      "metadata": {
        "id": "view-in-github",
        "colab_type": "text"
      },
      "source": [
        "<a href=\"https://colab.research.google.com/github/MHosseinHashemi/Roshan_Internship/blob/main/TB_Detection_TF_Approach.ipynb\" target=\"_parent\"><img src=\"https://colab.research.google.com/assets/colab-badge.svg\" alt=\"Open In Colab\"/></a>"
      ]
    },
    {
      "cell_type": "markdown",
      "metadata": {
        "id": "6b6d7d3c"
      },
      "source": [
        "# Import libraries"
      ],
      "id": "6b6d7d3c"
    },
    {
      "cell_type": "code",
      "execution_count": null,
      "metadata": {
        "id": "c6f4d0a5"
      },
      "outputs": [],
      "source": [
        "import io\n",
        "import os\n",
        "import gc\n",
        "import cv2\n",
        "import h5py\n",
        "import pickle\n",
        "import numpy as np\n",
        "import pandas as pd\n",
        "import seaborn as sns\n",
        "import tensorflow as tf\n",
        "import ipywidgets as widgets\n",
        "import matplotlib.pyplot as plt\n",
        "\n",
        "from PIL import Image\n",
        "from tqdm import tqdm\n",
        "from google.colab import files\n",
        "from sklearn.utils import shuffle\n",
        "from warnings import filterwarnings\n",
        "from tensorflow.keras.optimizers import *\n",
        "from tensorflow.keras.models import load_model\n",
        "from IPython.display import display,clear_output\n",
        "from sklearn.model_selection import train_test_split\n",
        "from sklearn.metrics import classification_report,confusion_matrix\n",
        "from tensorflow.keras.preprocessing.image import ImageDataGenerator\n",
        "from tensorflow.keras.applications.efficientnet_v2 import EfficientNetV2L, EfficientNetV2S\n",
        "from tensorflow.keras.callbacks import EarlyStopping, ReduceLROnPlateau, ModelCheckpoint, CSVLogger"
      ],
      "id": "c6f4d0a5"
    },
    {
      "cell_type": "code",
      "execution_count": null,
      "metadata": {
        "id": "RescBSAZvIDf",
        "colab": {
          "base_uri": "https://localhost:8080/"
        },
        "outputId": "135d4ae5-7ec8-404c-c98e-34781f67dfd9"
      },
      "outputs": [
        {
          "output_type": "stream",
          "name": "stdout",
          "text": [
            "Drive already mounted at /content/drive; to attempt to forcibly remount, call drive.mount(\"/content/drive\", force_remount=True).\n"
          ]
        }
      ],
      "source": [
        "from google.colab import drive\n",
        "drive.mount('/content/drive')"
      ],
      "id": "RescBSAZvIDf"
    },
    {
      "cell_type": "markdown",
      "metadata": {
        "id": "71bcb219"
      },
      "source": [
        "# Defining a function to create CNN model"
      ],
      "id": "71bcb219"
    },
    {
      "cell_type": "code",
      "execution_count": null,
      "metadata": {
        "id": "595d7586",
        "colab": {
          "base_uri": "https://localhost:8080/"
        },
        "outputId": "740f8ef9-96c7-400b-8695-6d11c52f3276"
      },
      "outputs": [
        {
          "output_type": "stream",
          "name": "stdout",
          "text": [
            "Downloading data from https://storage.googleapis.com/tensorflow/keras-applications/efficientnet_v2/efficientnetv2-s_notop.h5\n",
            "82420632/82420632 [==============================] - 3s 0us/step\n"
          ]
        }
      ],
      "source": [
        "image_size = 512\n",
        "EfficientNetV2S = EfficientNetV2S(weights='imagenet',include_top=False,input_shape=(image_size,image_size,3))\n",
        "model = EfficientNetV2S.output\n",
        "model = tf.keras.layers.GlobalAveragePooling2D()(model)\n",
        "model = tf.keras.layers.Dropout(rate=0.5)(model)\n",
        "model = tf.keras.layers.Dense(1,activation='sigmoid')(model)\n",
        "model = tf.keras.models.Model(inputs=EfficientNetV2S.input, outputs = model)"
      ],
      "id": "595d7586"
    },
    {
      "cell_type": "code",
      "execution_count": null,
      "metadata": {
        "id": "afe93642"
      },
      "outputs": [],
      "source": [
        "opt = SGD(learning_rate=0.01)\n",
        "model.compile(loss='binary_crossentropy', optimizer = opt, metrics= ['accuracy','Recall','Precision'])"
      ],
      "id": "afe93642"
    },
    {
      "cell_type": "code",
      "execution_count": null,
      "metadata": {
        "id": "6db27511"
      },
      "outputs": [],
      "source": [
        "csv_logger = CSVLogger('/content/drive/MyDrive/Colab Notebooks/Tensorflow_Logs/EfficientNetV2S.csv', separator=\",\")\n",
        "checkpoint = ModelCheckpoint(\"/content/drive/MyDrive/Colab Notebooks/Tensorflow_Logs/EfficientNetV2S.h5\", monitor=\"val_recall\", save_best_only=True, mode=\"auto\", verbose=1)\n",
        "reduce_lr = ReduceLROnPlateau(monitor = 'val_accuracy',\n",
        "                              factor = 0.5,\n",
        "                              patience = 2,\n",
        "                              min_delta = 0.001,\n",
        "                              mode='auto',\n",
        "                              verbose=1)"
      ],
      "id": "6db27511"
    },
    {
      "cell_type": "code",
      "execution_count": null,
      "metadata": {
        "id": "57d836ef"
      },
      "outputs": [],
      "source": [
        "def train_generator(TRAINING_DIR):\n",
        "\n",
        "    train_datagen = ImageDataGenerator(rescale=1/255)\n",
        "    train_generator = train_datagen.flow_from_directory(directory=TRAINING_DIR,\n",
        "                                                        batch_size=4,\n",
        "                                                        class_mode='binary',\n",
        "                                                        target_size=(512, 512))\n",
        "\n",
        "    return train_generator"
      ],
      "id": "57d836ef"
    },
    {
      "cell_type": "code",
      "execution_count": null,
      "metadata": {
        "id": "fa28c5b2"
      },
      "outputs": [],
      "source": [
        "def test_generator(TEST_DIR):\n",
        "\n",
        "    test_datagen = ImageDataGenerator(rescale=1/255)\n",
        "    test_generator = test_datagen.flow_from_directory(directory=TEST_DIR,\n",
        "                                                      batch_size=4,\n",
        "                                                      class_mode='binary',\n",
        "                                                      target_size=(512,512))\n",
        "\n",
        "    return test_generator"
      ],
      "id": "fa28c5b2"
    },
    {
      "cell_type": "code",
      "execution_count": null,
      "metadata": {
        "id": "4332b7d0"
      },
      "outputs": [],
      "source": [
        "Train_Dir = '/content/drive/MyDrive/Colab Notebooks/New_dataset/train'\n",
        "Test_Dir = '/content/drive/MyDrive/Colab Notebooks/New_dataset/validation'"
      ],
      "id": "4332b7d0"
    },
    {
      "cell_type": "code",
      "execution_count": null,
      "metadata": {
        "colab": {
          "base_uri": "https://localhost:8080/"
        },
        "id": "8376b32a",
        "outputId": "a49cfe1c-cb13-477a-c74d-2386450d4017"
      },
      "outputs": [
        {
          "output_type": "stream",
          "name": "stdout",
          "text": [
            "Found 5600 images belonging to 2 classes.\n"
          ]
        }
      ],
      "source": [
        "train_generator = train_generator(TRAINING_DIR=Train_Dir)"
      ],
      "id": "8376b32a"
    },
    {
      "cell_type": "code",
      "execution_count": null,
      "metadata": {
        "colab": {
          "base_uri": "https://localhost:8080/"
        },
        "id": "71121b29",
        "outputId": "5d3a2f4a-c104-494a-9aac-7daa7539bb4b"
      },
      "outputs": [
        {
          "output_type": "stream",
          "name": "stdout",
          "text": [
            "Found 1400 images belonging to 2 classes.\n"
          ]
        }
      ],
      "source": [
        "validation_generator = test_generator(TEST_DIR=Test_Dir)"
      ],
      "id": "71121b29"
    },
    {
      "cell_type": "code",
      "execution_count": null,
      "metadata": {
        "colab": {
          "base_uri": "https://localhost:8080/"
        },
        "id": "4903465d",
        "scrolled": true,
        "outputId": "085c626a-49a7-4652-c11d-36ab625f43d2"
      },
      "outputs": [
        {
          "output_type": "stream",
          "name": "stdout",
          "text": [
            "Epoch 1/25\n",
            "200/200 [==============================] - ETA: 0s - loss: 0.4324 - accuracy: 0.8388 - recall: 0.8223 - precision: 0.8460\n",
            "Epoch 1: val_recall improved from inf to 1.00000, saving model to /content/drive/MyDrive/Colab Notebooks/Tensorflow_Logs/EfficientNetV2S.h5\n",
            "200/200 [==============================] - 158s 527ms/step - loss: 0.4324 - accuracy: 0.8388 - recall: 0.8223 - precision: 0.8460 - val_loss: 0.9415 - val_accuracy: 0.5000 - val_recall: 1.0000 - val_precision: 0.5000 - lr: 0.0100\n",
            "Epoch 2/25\n",
            "200/200 [==============================] - ETA: 0s - loss: 0.2077 - accuracy: 0.9312 - recall: 0.9373 - precision: 0.9205\n",
            "Epoch 2: val_recall improved from 1.00000 to 0.96714, saving model to /content/drive/MyDrive/Colab Notebooks/Tensorflow_Logs/EfficientNetV2S.h5\n",
            "200/200 [==============================] - 101s 505ms/step - loss: 0.2077 - accuracy: 0.9312 - recall: 0.9373 - precision: 0.9205 - val_loss: 0.0604 - val_accuracy: 0.9821 - val_recall: 0.9671 - val_precision: 0.9971 - lr: 0.0100\n",
            "Epoch 3/25\n",
            "200/200 [==============================] - ETA: 0s - loss: 0.2034 - accuracy: 0.9250 - recall: 0.9148 - precision: 0.9377\n",
            "Epoch 3: val_recall did not improve from 0.96714\n",
            "200/200 [==============================] - 97s 486ms/step - loss: 0.2034 - accuracy: 0.9250 - recall: 0.9148 - precision: 0.9377 - val_loss: 1.3447 - val_accuracy: 0.5000 - val_recall: 1.0000 - val_precision: 0.5000 - lr: 0.0100\n",
            "Epoch 4/25\n",
            "200/200 [==============================] - ETA: 0s - loss: 0.2034 - accuracy: 0.9150 - recall: 0.8920 - precision: 0.9342\n",
            "Epoch 4: val_recall did not improve from 0.96714\n",
            "\n",
            "Epoch 4: ReduceLROnPlateau reducing learning rate to 0.004999999888241291.\n",
            "200/200 [==============================] - 95s 476ms/step - loss: 0.2034 - accuracy: 0.9150 - recall: 0.8920 - precision: 0.9342 - val_loss: 1.2227 - val_accuracy: 0.5007 - val_recall: 1.0000 - val_precision: 0.5004 - lr: 0.0100\n",
            "Epoch 5/25\n",
            "200/200 [==============================] - ETA: 0s - loss: 0.2106 - accuracy: 0.9225 - recall: 0.9264 - precision: 0.9264\n",
            "Epoch 5: val_recall did not improve from 0.96714\n",
            "200/200 [==============================] - 95s 477ms/step - loss: 0.2106 - accuracy: 0.9225 - recall: 0.9264 - precision: 0.9264 - val_loss: 0.0690 - val_accuracy: 0.9886 - val_recall: 0.9886 - val_precision: 0.9886 - lr: 0.0050\n",
            "Epoch 6/25\n",
            "200/200 [==============================] - ETA: 0s - loss: 0.1686 - accuracy: 0.9312 - recall: 0.9338 - precision: 0.9315\n",
            "Epoch 6: val_recall did not improve from 0.96714\n",
            "200/200 [==============================] - 98s 491ms/step - loss: 0.1686 - accuracy: 0.9312 - recall: 0.9338 - precision: 0.9315 - val_loss: 0.4636 - val_accuracy: 0.7579 - val_recall: 1.0000 - val_precision: 0.6737 - lr: 0.0050\n",
            "Epoch 7/25\n",
            "200/200 [==============================] - ETA: 0s - loss: 0.1367 - accuracy: 0.9388 - recall: 0.9476 - precision: 0.9258\n",
            "Epoch 7: val_recall did not improve from 0.96714\n",
            "\n",
            "Epoch 7: ReduceLROnPlateau reducing learning rate to 0.0024999999441206455.\n",
            "200/200 [==============================] - 96s 479ms/step - loss: 0.1367 - accuracy: 0.9388 - recall: 0.9476 - precision: 0.9258 - val_loss: 2.3158 - val_accuracy: 0.5000 - val_recall: 1.0000 - val_precision: 0.5000 - lr: 0.0050\n",
            "Epoch 8/25\n",
            "200/200 [==============================] - ETA: 0s - loss: 0.1450 - accuracy: 0.9425 - recall: 0.9211 - precision: 0.9602\n",
            "Epoch 8: val_recall did not improve from 0.96714\n",
            "200/200 [==============================] - 95s 473ms/step - loss: 0.1450 - accuracy: 0.9425 - recall: 0.9211 - precision: 0.9602 - val_loss: 0.0440 - val_accuracy: 0.9900 - val_recall: 0.9929 - val_precision: 0.9872 - lr: 0.0025\n",
            "Epoch 9/25\n",
            "200/200 [==============================] - ETA: 0s - loss: 0.1474 - accuracy: 0.9337 - recall: 0.9400 - precision: 0.9284\n",
            "Epoch 9: val_recall did not improve from 0.96714\n",
            "200/200 [==============================] - 108s 542ms/step - loss: 0.1474 - accuracy: 0.9337 - recall: 0.9400 - precision: 0.9284 - val_loss: 0.5321 - val_accuracy: 0.7271 - val_recall: 1.0000 - val_precision: 0.6470 - lr: 0.0025\n",
            "Epoch 10/25\n",
            "200/200 [==============================] - ETA: 0s - loss: 0.1182 - accuracy: 0.9450 - recall: 0.9468 - precision: 0.9421\n",
            "Epoch 10: val_recall did not improve from 0.96714\n",
            "200/200 [==============================] - 95s 477ms/step - loss: 0.1182 - accuracy: 0.9450 - recall: 0.9468 - precision: 0.9421 - val_loss: 0.0209 - val_accuracy: 0.9943 - val_recall: 0.9929 - val_precision: 0.9957 - lr: 0.0025\n",
            "Epoch 11/25\n",
            "200/200 [==============================] - ETA: 0s - loss: 0.0871 - accuracy: 0.9613 - recall: 0.9551 - precision: 0.9672\n",
            "Epoch 11: val_recall did not improve from 0.96714\n",
            "200/200 [==============================] - 94s 473ms/step - loss: 0.0871 - accuracy: 0.9613 - recall: 0.9551 - precision: 0.9672 - val_loss: 0.5777 - val_accuracy: 0.7021 - val_recall: 1.0000 - val_precision: 0.6267 - lr: 0.0025\n",
            "Epoch 12/25\n",
            "200/200 [==============================] - ETA: 0s - loss: 0.1350 - accuracy: 0.9488 - recall: 0.9298 - precision: 0.9697\n",
            "Epoch 12: val_recall did not improve from 0.96714\n",
            "\n",
            "Epoch 12: ReduceLROnPlateau reducing learning rate to 0.0012499999720603228.\n",
            "200/200 [==============================] - 94s 471ms/step - loss: 0.1350 - accuracy: 0.9488 - recall: 0.9298 - precision: 0.9697 - val_loss: 0.0622 - val_accuracy: 0.9907 - val_recall: 0.9943 - val_precision: 0.9872 - lr: 0.0025\n",
            "Epoch 13/25\n",
            "200/200 [==============================] - ETA: 0s - loss: 0.0811 - accuracy: 0.9725 - recall: 0.9828 - precision: 0.9639\n",
            "Epoch 13: val_recall did not improve from 0.96714\n",
            "200/200 [==============================] - 107s 538ms/step - loss: 0.0811 - accuracy: 0.9725 - recall: 0.9828 - precision: 0.9639 - val_loss: 0.0162 - val_accuracy: 0.9943 - val_recall: 0.9886 - val_precision: 1.0000 - lr: 0.0012\n",
            "Epoch 14/25\n",
            "200/200 [==============================] - ETA: 0s - loss: 0.1012 - accuracy: 0.9550 - recall: 0.9440 - precision: 0.9676\n",
            "Epoch 14: val_recall did not improve from 0.96714\n",
            "\n",
            "Epoch 14: ReduceLROnPlateau reducing learning rate to 0.0006249999860301614.\n",
            "200/200 [==============================] - 95s 476ms/step - loss: 0.1012 - accuracy: 0.9550 - recall: 0.9440 - precision: 0.9676 - val_loss: 1.8980 - val_accuracy: 0.5000 - val_recall: 1.0000 - val_precision: 0.5000 - lr: 0.0012\n",
            "Epoch 15/25\n",
            "200/200 [==============================] - ETA: 0s - loss: 0.1059 - accuracy: 0.9550 - recall: 0.9558 - precision: 0.9558\n",
            "Epoch 15: val_recall did not improve from 0.96714\n",
            "200/200 [==============================] - 108s 539ms/step - loss: 0.1059 - accuracy: 0.9550 - recall: 0.9558 - precision: 0.9558 - val_loss: 0.0111 - val_accuracy: 0.9971 - val_recall: 0.9943 - val_precision: 1.0000 - lr: 6.2500e-04\n",
            "Epoch 16/25\n",
            "200/200 [==============================] - ETA: 0s - loss: 0.1488 - accuracy: 0.9337 - recall: 0.9356 - precision: 0.9333\n",
            "Epoch 16: val_recall did not improve from 0.96714\n",
            "200/200 [==============================] - 95s 473ms/step - loss: 0.1488 - accuracy: 0.9337 - recall: 0.9356 - precision: 0.9333 - val_loss: 0.0151 - val_accuracy: 0.9957 - val_recall: 0.9914 - val_precision: 1.0000 - lr: 6.2500e-04\n",
            "Epoch 17/25\n",
            "200/200 [==============================] - ETA: 0s - loss: 0.1163 - accuracy: 0.9388 - recall: 0.9310 - precision: 0.9385\n",
            "Epoch 17: val_recall did not improve from 0.96714\n",
            "\n",
            "Epoch 17: ReduceLROnPlateau reducing learning rate to 0.0003124999930150807.\n",
            "200/200 [==============================] - 94s 470ms/step - loss: 0.1163 - accuracy: 0.9388 - recall: 0.9310 - precision: 0.9385 - val_loss: 0.0118 - val_accuracy: 0.9957 - val_recall: 0.9914 - val_precision: 1.0000 - lr: 6.2500e-04\n",
            "Epoch 18/25\n",
            "200/200 [==============================] - ETA: 0s - loss: 0.0952 - accuracy: 0.9613 - recall: 0.9723 - precision: 0.9507\n",
            "Epoch 18: val_recall did not improve from 0.96714\n",
            "200/200 [==============================] - 94s 472ms/step - loss: 0.0952 - accuracy: 0.9613 - recall: 0.9723 - precision: 0.9507 - val_loss: 0.0125 - val_accuracy: 0.9971 - val_recall: 0.9943 - val_precision: 1.0000 - lr: 3.1250e-04\n",
            "Epoch 19/25\n",
            "200/200 [==============================] - ETA: 0s - loss: 0.0960 - accuracy: 0.9638 - recall: 0.9601 - precision: 0.9627\n",
            "Epoch 19: val_recall did not improve from 0.96714\n",
            "\n",
            "Epoch 19: ReduceLROnPlateau reducing learning rate to 0.00015624999650754035.\n",
            "200/200 [==============================] - 95s 473ms/step - loss: 0.0960 - accuracy: 0.9638 - recall: 0.9601 - precision: 0.9627 - val_loss: 0.0114 - val_accuracy: 0.9964 - val_recall: 0.9929 - val_precision: 1.0000 - lr: 3.1250e-04\n",
            "Epoch 20/25\n",
            "200/200 [==============================] - ETA: 0s - loss: 0.0810 - accuracy: 0.9650 - recall: 0.9761 - precision: 0.9509\n",
            "Epoch 20: val_recall did not improve from 0.96714\n",
            "200/200 [==============================] - 107s 538ms/step - loss: 0.0810 - accuracy: 0.9650 - recall: 0.9761 - precision: 0.9509 - val_loss: 0.0118 - val_accuracy: 0.9950 - val_recall: 0.9900 - val_precision: 1.0000 - lr: 1.5625e-04\n",
            "Epoch 21/25\n",
            "200/200 [==============================] - ETA: 0s - loss: 0.1246 - accuracy: 0.9500 - recall: 0.9523 - precision: 0.9475\n",
            "Epoch 21: val_recall did not improve from 0.96714\n",
            "\n",
            "Epoch 21: ReduceLROnPlateau reducing learning rate to 7.812499825377017e-05.\n",
            "200/200 [==============================] - 94s 469ms/step - loss: 0.1246 - accuracy: 0.9500 - recall: 0.9523 - precision: 0.9475 - val_loss: 0.0099 - val_accuracy: 0.9964 - val_recall: 0.9929 - val_precision: 1.0000 - lr: 1.5625e-04\n",
            "Epoch 22/25\n",
            "200/200 [==============================] - ETA: 0s - loss: 0.1233 - accuracy: 0.9450 - recall: 0.9327 - precision: 0.9565\n",
            "Epoch 22: val_recall did not improve from 0.96714\n",
            "200/200 [==============================] - 93s 467ms/step - loss: 0.1233 - accuracy: 0.9450 - recall: 0.9327 - precision: 0.9565 - val_loss: 0.0098 - val_accuracy: 0.9971 - val_recall: 0.9943 - val_precision: 1.0000 - lr: 7.8125e-05\n",
            "Epoch 23/25\n",
            "200/200 [==============================] - ETA: 0s - loss: 0.1015 - accuracy: 0.9575 - recall: 0.9490 - precision: 0.9637\n",
            "Epoch 23: val_recall did not improve from 0.96714\n",
            "\n",
            "Epoch 23: ReduceLROnPlateau reducing learning rate to 3.9062499126885086e-05.\n",
            "200/200 [==============================] - 94s 470ms/step - loss: 0.1015 - accuracy: 0.9575 - recall: 0.9490 - precision: 0.9637 - val_loss: 0.0125 - val_accuracy: 0.9964 - val_recall: 0.9929 - val_precision: 1.0000 - lr: 7.8125e-05\n",
            "Epoch 24/25\n",
            "200/200 [==============================] - ETA: 0s - loss: 0.1020 - accuracy: 0.9513 - recall: 0.9513 - precision: 0.9488\n",
            "Epoch 24: val_recall did not improve from 0.96714\n",
            "200/200 [==============================] - 107s 537ms/step - loss: 0.1020 - accuracy: 0.9513 - recall: 0.9513 - precision: 0.9488 - val_loss: 0.0098 - val_accuracy: 0.9971 - val_recall: 0.9943 - val_precision: 1.0000 - lr: 3.9062e-05\n",
            "Epoch 25/25\n",
            "200/200 [==============================] - ETA: 0s - loss: 0.0795 - accuracy: 0.9675 - recall: 0.9667 - precision: 0.9667\n",
            "Epoch 25: val_recall did not improve from 0.96714\n",
            "\n",
            "Epoch 25: ReduceLROnPlateau reducing learning rate to 1.9531249563442543e-05.\n",
            "200/200 [==============================] - 94s 468ms/step - loss: 0.0795 - accuracy: 0.9675 - recall: 0.9667 - precision: 0.9667 - val_loss: 0.0102 - val_accuracy: 0.9964 - val_recall: 0.9929 - val_precision: 1.0000 - lr: 3.9062e-05\n"
          ]
        }
      ],
      "source": [
        "EPOCHS = 25\n",
        "\n",
        "history_1 = model.fit(\n",
        "        train_generator,\n",
        "        steps_per_epoch=200,\n",
        "        epochs=EPOCHS,\n",
        "        verbose=1,\n",
        "        validation_data = validation_generator,\n",
        "        callbacks=[csv_logger,checkpoint,reduce_lr]\n",
        "        )"
      ],
      "id": "4903465d"
    },
    {
      "cell_type": "code",
      "source": [],
      "metadata": {
        "id": "7jrgLCDoSq8V"
      },
      "id": "7jrgLCDoSq8V",
      "execution_count": null,
      "outputs": []
    }
  ],
  "metadata": {
    "accelerator": "GPU",
    "colab": {
      "provenance": [],
      "include_colab_link": true
    },
    "kernelspec": {
      "display_name": "Python 3",
      "name": "python3"
    },
    "language_info": {
      "codemirror_mode": {
        "name": "ipython",
        "version": 3
      },
      "file_extension": ".py",
      "mimetype": "text/x-python",
      "name": "python",
      "nbconvert_exporter": "python",
      "pygments_lexer": "ipython3",
      "version": "3.9.7"
    }
  },
  "nbformat": 4,
  "nbformat_minor": 5
}