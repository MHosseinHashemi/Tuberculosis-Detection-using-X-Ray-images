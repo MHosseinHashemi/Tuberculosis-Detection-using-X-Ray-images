{
  "cells": [
    {
      "cell_type": "markdown",
      "metadata": {
        "id": "view-in-github",
        "colab_type": "text"
      },
      "source": [
        "<a href=\"https://colab.research.google.com/github/MHosseinHashemi/Tuberculosis-Detection-using-X-Ray-images/blob/main/TB_Detection_TF_Approach.ipynb\" target=\"_parent\"><img src=\"https://colab.research.google.com/assets/colab-badge.svg\" alt=\"Open In Colab\"/></a>"
      ]
    },
    {
      "cell_type": "markdown",
      "metadata": {
        "id": "6b6d7d3c"
      },
      "source": [
        "# Import libraries"
      ],
      "id": "6b6d7d3c"
    },
    {
      "cell_type": "code",
      "execution_count": 1,
      "metadata": {
        "id": "c6f4d0a5"
      },
      "outputs": [],
      "source": [
        "import io\n",
        "import os\n",
        "import gc\n",
        "import cv2\n",
        "import h5py\n",
        "import pickle\n",
        "import numpy as np\n",
        "import pandas as pd\n",
        "import seaborn as sns\n",
        "import tensorflow as tf\n",
        "import ipywidgets as widgets\n",
        "import matplotlib.pyplot as plt\n",
        "\n",
        "from PIL import Image\n",
        "from tqdm import tqdm\n",
        "from google.colab import files\n",
        "from sklearn.utils import shuffle\n",
        "from warnings import filterwarnings\n",
        "from tensorflow.keras.optimizers import *\n",
        "from tensorflow.keras.models import load_model\n",
        "from IPython.display import display,clear_output\n",
        "from sklearn.model_selection import train_test_split\n",
        "from sklearn.metrics import classification_report,confusion_matrix\n",
        "from tensorflow.keras.preprocessing.image import ImageDataGenerator\n",
        "from tensorflow.keras.applications.efficientnet_v2 import EfficientNetV2L, EfficientNetV2S, EfficientNetV2B0\n",
        "from tensorflow.keras.applications.mobilenet_v2 import MobileNetV2\n",
        "from tensorflow.keras.callbacks import EarlyStopping, ReduceLROnPlateau, ModelCheckpoint"
      ],
      "id": "c6f4d0a5"
    },
    {
      "cell_type": "code",
      "execution_count": 2,
      "metadata": {
        "id": "RescBSAZvIDf",
        "colab": {
          "base_uri": "https://localhost:8080/"
        },
        "outputId": "92d82205-e5e3-4fad-de83-a6221462931a"
      },
      "outputs": [
        {
          "output_type": "stream",
          "name": "stdout",
          "text": [
            "Mounted at /content/drive\n"
          ]
        }
      ],
      "source": [
        "# from google.colab import drive\n",
        "# drive.mount('/content/drive')"
      ],
      "id": "RescBSAZvIDf"
    },
    {
      "cell_type": "code",
      "source": [
        "# !pip install kaggle"
      ],
      "metadata": {
        "colab": {
          "base_uri": "https://localhost:8080/"
        },
        "id": "GVTXqh8cFwie",
        "outputId": "3e6f9e3b-4c00-44fa-b978-5c403f63251f"
      },
      "id": "GVTXqh8cFwie",
      "execution_count": 4,
      "outputs": [
        {
          "output_type": "stream",
          "name": "stdout",
          "text": [
            "Requirement already satisfied: kaggle in /usr/local/lib/python3.10/dist-packages (1.5.16)\n",
            "Requirement already satisfied: six>=1.10 in /usr/local/lib/python3.10/dist-packages (from kaggle) (1.16.0)\n",
            "Requirement already satisfied: certifi in /usr/local/lib/python3.10/dist-packages (from kaggle) (2023.7.22)\n",
            "Requirement already satisfied: python-dateutil in /usr/local/lib/python3.10/dist-packages (from kaggle) (2.8.2)\n",
            "Requirement already satisfied: requests in /usr/local/lib/python3.10/dist-packages (from kaggle) (2.27.1)\n",
            "Requirement already satisfied: tqdm in /usr/local/lib/python3.10/dist-packages (from kaggle) (4.65.0)\n",
            "Requirement already satisfied: python-slugify in /usr/local/lib/python3.10/dist-packages (from kaggle) (8.0.1)\n",
            "Requirement already satisfied: urllib3 in /usr/local/lib/python3.10/dist-packages (from kaggle) (1.26.16)\n",
            "Requirement already satisfied: bleach in /usr/local/lib/python3.10/dist-packages (from kaggle) (6.0.0)\n",
            "Requirement already satisfied: webencodings in /usr/local/lib/python3.10/dist-packages (from bleach->kaggle) (0.5.1)\n",
            "Requirement already satisfied: text-unidecode>=1.3 in /usr/local/lib/python3.10/dist-packages (from python-slugify->kaggle) (1.3)\n",
            "Requirement already satisfied: charset-normalizer~=2.0.0 in /usr/local/lib/python3.10/dist-packages (from requests->kaggle) (2.0.12)\n",
            "Requirement already satisfied: idna<4,>=2.5 in /usr/local/lib/python3.10/dist-packages (from requests->kaggle) (3.4)\n"
          ]
        }
      ]
    },
    {
      "cell_type": "code",
      "source": [
        "# files.upload()"
      ],
      "metadata": {
        "colab": {
          "base_uri": "https://localhost:8080/",
          "height": 90
        },
        "id": "BtvbCIWnFwlE",
        "outputId": "8377dbbb-25be-40ef-d711-713b93147fa5"
      },
      "id": "BtvbCIWnFwlE",
      "execution_count": 5,
      "outputs": [
        {
          "output_type": "display_data",
          "data": {
            "text/plain": [
              "<IPython.core.display.HTML object>"
            ],
            "text/html": [
              "\n",
              "     <input type=\"file\" id=\"files-90700ad6-b444-41eb-a825-1da5f13b433d\" name=\"files[]\" multiple disabled\n",
              "        style=\"border:none\" />\n",
              "     <output id=\"result-90700ad6-b444-41eb-a825-1da5f13b433d\">\n",
              "      Upload widget is only available when the cell has been executed in the\n",
              "      current browser session. Please rerun this cell to enable.\n",
              "      </output>\n",
              "      <script>// Copyright 2017 Google LLC\n",
              "//\n",
              "// Licensed under the Apache License, Version 2.0 (the \"License\");\n",
              "// you may not use this file except in compliance with the License.\n",
              "// You may obtain a copy of the License at\n",
              "//\n",
              "//      http://www.apache.org/licenses/LICENSE-2.0\n",
              "//\n",
              "// Unless required by applicable law or agreed to in writing, software\n",
              "// distributed under the License is distributed on an \"AS IS\" BASIS,\n",
              "// WITHOUT WARRANTIES OR CONDITIONS OF ANY KIND, either express or implied.\n",
              "// See the License for the specific language governing permissions and\n",
              "// limitations under the License.\n",
              "\n",
              "/**\n",
              " * @fileoverview Helpers for google.colab Python module.\n",
              " */\n",
              "(function(scope) {\n",
              "function span(text, styleAttributes = {}) {\n",
              "  const element = document.createElement('span');\n",
              "  element.textContent = text;\n",
              "  for (const key of Object.keys(styleAttributes)) {\n",
              "    element.style[key] = styleAttributes[key];\n",
              "  }\n",
              "  return element;\n",
              "}\n",
              "\n",
              "// Max number of bytes which will be uploaded at a time.\n",
              "const MAX_PAYLOAD_SIZE = 100 * 1024;\n",
              "\n",
              "function _uploadFiles(inputId, outputId) {\n",
              "  const steps = uploadFilesStep(inputId, outputId);\n",
              "  const outputElement = document.getElementById(outputId);\n",
              "  // Cache steps on the outputElement to make it available for the next call\n",
              "  // to uploadFilesContinue from Python.\n",
              "  outputElement.steps = steps;\n",
              "\n",
              "  return _uploadFilesContinue(outputId);\n",
              "}\n",
              "\n",
              "// This is roughly an async generator (not supported in the browser yet),\n",
              "// where there are multiple asynchronous steps and the Python side is going\n",
              "// to poll for completion of each step.\n",
              "// This uses a Promise to block the python side on completion of each step,\n",
              "// then passes the result of the previous step as the input to the next step.\n",
              "function _uploadFilesContinue(outputId) {\n",
              "  const outputElement = document.getElementById(outputId);\n",
              "  const steps = outputElement.steps;\n",
              "\n",
              "  const next = steps.next(outputElement.lastPromiseValue);\n",
              "  return Promise.resolve(next.value.promise).then((value) => {\n",
              "    // Cache the last promise value to make it available to the next\n",
              "    // step of the generator.\n",
              "    outputElement.lastPromiseValue = value;\n",
              "    return next.value.response;\n",
              "  });\n",
              "}\n",
              "\n",
              "/**\n",
              " * Generator function which is called between each async step of the upload\n",
              " * process.\n",
              " * @param {string} inputId Element ID of the input file picker element.\n",
              " * @param {string} outputId Element ID of the output display.\n",
              " * @return {!Iterable<!Object>} Iterable of next steps.\n",
              " */\n",
              "function* uploadFilesStep(inputId, outputId) {\n",
              "  const inputElement = document.getElementById(inputId);\n",
              "  inputElement.disabled = false;\n",
              "\n",
              "  const outputElement = document.getElementById(outputId);\n",
              "  outputElement.innerHTML = '';\n",
              "\n",
              "  const pickedPromise = new Promise((resolve) => {\n",
              "    inputElement.addEventListener('change', (e) => {\n",
              "      resolve(e.target.files);\n",
              "    });\n",
              "  });\n",
              "\n",
              "  const cancel = document.createElement('button');\n",
              "  inputElement.parentElement.appendChild(cancel);\n",
              "  cancel.textContent = 'Cancel upload';\n",
              "  const cancelPromise = new Promise((resolve) => {\n",
              "    cancel.onclick = () => {\n",
              "      resolve(null);\n",
              "    };\n",
              "  });\n",
              "\n",
              "  // Wait for the user to pick the files.\n",
              "  const files = yield {\n",
              "    promise: Promise.race([pickedPromise, cancelPromise]),\n",
              "    response: {\n",
              "      action: 'starting',\n",
              "    }\n",
              "  };\n",
              "\n",
              "  cancel.remove();\n",
              "\n",
              "  // Disable the input element since further picks are not allowed.\n",
              "  inputElement.disabled = true;\n",
              "\n",
              "  if (!files) {\n",
              "    return {\n",
              "      response: {\n",
              "        action: 'complete',\n",
              "      }\n",
              "    };\n",
              "  }\n",
              "\n",
              "  for (const file of files) {\n",
              "    const li = document.createElement('li');\n",
              "    li.append(span(file.name, {fontWeight: 'bold'}));\n",
              "    li.append(span(\n",
              "        `(${file.type || 'n/a'}) - ${file.size} bytes, ` +\n",
              "        `last modified: ${\n",
              "            file.lastModifiedDate ? file.lastModifiedDate.toLocaleDateString() :\n",
              "                                    'n/a'} - `));\n",
              "    const percent = span('0% done');\n",
              "    li.appendChild(percent);\n",
              "\n",
              "    outputElement.appendChild(li);\n",
              "\n",
              "    const fileDataPromise = new Promise((resolve) => {\n",
              "      const reader = new FileReader();\n",
              "      reader.onload = (e) => {\n",
              "        resolve(e.target.result);\n",
              "      };\n",
              "      reader.readAsArrayBuffer(file);\n",
              "    });\n",
              "    // Wait for the data to be ready.\n",
              "    let fileData = yield {\n",
              "      promise: fileDataPromise,\n",
              "      response: {\n",
              "        action: 'continue',\n",
              "      }\n",
              "    };\n",
              "\n",
              "    // Use a chunked sending to avoid message size limits. See b/62115660.\n",
              "    let position = 0;\n",
              "    do {\n",
              "      const length = Math.min(fileData.byteLength - position, MAX_PAYLOAD_SIZE);\n",
              "      const chunk = new Uint8Array(fileData, position, length);\n",
              "      position += length;\n",
              "\n",
              "      const base64 = btoa(String.fromCharCode.apply(null, chunk));\n",
              "      yield {\n",
              "        response: {\n",
              "          action: 'append',\n",
              "          file: file.name,\n",
              "          data: base64,\n",
              "        },\n",
              "      };\n",
              "\n",
              "      let percentDone = fileData.byteLength === 0 ?\n",
              "          100 :\n",
              "          Math.round((position / fileData.byteLength) * 100);\n",
              "      percent.textContent = `${percentDone}% done`;\n",
              "\n",
              "    } while (position < fileData.byteLength);\n",
              "  }\n",
              "\n",
              "  // All done.\n",
              "  yield {\n",
              "    response: {\n",
              "      action: 'complete',\n",
              "    }\n",
              "  };\n",
              "}\n",
              "\n",
              "scope.google = scope.google || {};\n",
              "scope.google.colab = scope.google.colab || {};\n",
              "scope.google.colab._files = {\n",
              "  _uploadFiles,\n",
              "  _uploadFilesContinue,\n",
              "};\n",
              "})(self);\n",
              "</script> "
            ]
          },
          "metadata": {}
        },
        {
          "output_type": "stream",
          "name": "stdout",
          "text": [
            "Saving kaggle.json to kaggle.json\n"
          ]
        },
        {
          "output_type": "execute_result",
          "data": {
            "text/plain": [
              "{'kaggle.json': b'{\"username\":\"mohammadhossein77\",\"key\":\"baf77bc4d87e9f29e2f74205c19ea709\"}'}"
            ]
          },
          "metadata": {},
          "execution_count": 5
        }
      ]
    },
    {
      "cell_type": "code",
      "source": [
        "# ! mkdir ~/.kaggle"
      ],
      "metadata": {
        "id": "uZCPEXzmFwn1"
      },
      "id": "uZCPEXzmFwn1",
      "execution_count": 6,
      "outputs": []
    },
    {
      "cell_type": "code",
      "source": [
        "# ! cp kaggle.json ~/.kaggle/"
      ],
      "metadata": {
        "id": "aHKipS9dFwqV"
      },
      "id": "aHKipS9dFwqV",
      "execution_count": 7,
      "outputs": []
    },
    {
      "cell_type": "code",
      "source": [
        "# ! chmod 600 ~/.kaggle/kaggle.json"
      ],
      "metadata": {
        "id": "fAjSJfzxF_jG"
      },
      "id": "fAjSJfzxF_jG",
      "execution_count": 8,
      "outputs": []
    },
    {
      "cell_type": "code",
      "source": [
        "# !kaggle datasets download -d tawsifurrahman/tuberculosis-tb-chest-xray-dataset"
      ],
      "metadata": {
        "colab": {
          "base_uri": "https://localhost:8080/"
        },
        "id": "_vEie5NgF_lu",
        "outputId": "496e8c1f-92cd-4316-dd85-c55a5200c7d4"
      },
      "id": "_vEie5NgF_lu",
      "execution_count": 9,
      "outputs": [
        {
          "output_type": "stream",
          "name": "stdout",
          "text": [
            "Downloading tuberculosis-tb-chest-xray-dataset.zip to /content\n",
            "100% 661M/663M [00:33<00:00, 22.7MB/s]\n",
            "100% 663M/663M [00:33<00:00, 20.6MB/s]\n"
          ]
        }
      ]
    },
    {
      "cell_type": "code",
      "source": [
        "# import zipfile\n",
        "\n",
        "# zip_ref = zipfile.ZipFile('/content/tuberculosis-tb-chest-xray-dataset.zip', 'r')"
      ],
      "metadata": {
        "id": "NlTCtBceF_oW"
      },
      "id": "NlTCtBceF_oW",
      "execution_count": 4,
      "outputs": []
    },
    {
      "cell_type": "code",
      "source": [
        "# zip_ref.extractall('/content/Dataset')"
      ],
      "metadata": {
        "id": "8NFkCgIZFwtd"
      },
      "id": "8NFkCgIZFwtd",
      "execution_count": 5,
      "outputs": []
    },
    {
      "cell_type": "code",
      "source": [
        "# zip_ref.close()"
      ],
      "metadata": {
        "id": "DPMw7MgTFwwR"
      },
      "id": "DPMw7MgTFwwR",
      "execution_count": 13,
      "outputs": []
    },
    {
      "cell_type": "code",
      "source": [
        "# # from tqdm import tqdm\n",
        "\n",
        "# # Collecting all the correspounding addresses for the Pics\n",
        "# def reader(image_dir):\n",
        "#     images_path = []\n",
        "#     # Reads all the paths to the images\n",
        "#     for idx in tqdm(os.listdir(image_dir)):\n",
        "#       img_path = os.path.join(image_dir, idx)\n",
        "#       if img_path.endswith('.png'):\n",
        "#         if \"Tuberculosis\" in idx:\n",
        "#             images_path.append({\"Address\":img_path, \"Label\":\"TB\"})\n",
        "#         elif \"Normal\" in idx:\n",
        "#             images_path.append({\"Address\":img_path, \"Label\":\"No\"})\n",
        "#         else:\n",
        "#             print(\"Error! Something went wrong...\")\n",
        "#             print(img_path)\n",
        "\n",
        "#     return images_path"
      ],
      "metadata": {
        "id": "zvav6FzSGYEO"
      },
      "id": "zvav6FzSGYEO",
      "execution_count": 2,
      "outputs": []
    },
    {
      "cell_type": "code",
      "source": [
        "# paths_1 = reader(\"/content/Dataset/TB_Chest_Radiography_Database/Normal\")"
      ],
      "metadata": {
        "id": "n4vY5wX_GYGt"
      },
      "id": "n4vY5wX_GYGt",
      "execution_count": 6,
      "outputs": []
    },
    {
      "cell_type": "code",
      "source": [
        "# paths_2 = reader(\"/content/Dataset/TB_Chest_Radiography_Database/Tuberculosis\")"
      ],
      "metadata": {
        "id": "YG81pB1fGYJO"
      },
      "id": "YG81pB1fGYJO",
      "execution_count": 7,
      "outputs": []
    },
    {
      "cell_type": "code",
      "source": [
        "# Expected to be 4200\n",
        "# paths = paths_1 + paths_2\n",
        "# len(paths)"
      ],
      "metadata": {
        "colab": {
          "base_uri": "https://localhost:8080/"
        },
        "id": "ppOv5ahMGYL6",
        "outputId": "4062e067-d4aa-4bec-d5a8-6bd444b9c085"
      },
      "id": "ppOv5ahMGYL6",
      "execution_count": 17,
      "outputs": [
        {
          "output_type": "execute_result",
          "data": {
            "text/plain": [
              "4200"
            ]
          },
          "metadata": {},
          "execution_count": 17
        }
      ]
    },
    {
      "cell_type": "code",
      "source": [
        "# import random\n",
        "# random.shuffle(paths)\n",
        "# # Double Check\n",
        "# paths[:10]"
      ],
      "metadata": {
        "colab": {
          "base_uri": "https://localhost:8080/"
        },
        "id": "HBntGu2mGYOW",
        "outputId": "76841829-89b7-41fb-850a-b2b27e7cfb99"
      },
      "id": "HBntGu2mGYOW",
      "execution_count": 18,
      "outputs": [
        {
          "output_type": "execute_result",
          "data": {
            "text/plain": [
              "[{'Address': '/content/Dataset/TB_Chest_Radiography_Database/Normal/Normal-2357.png',\n",
              "  'Label': 'No'},\n",
              " {'Address': '/content/Dataset/TB_Chest_Radiography_Database/Normal/Normal-2992.png',\n",
              "  'Label': 'No'},\n",
              " {'Address': '/content/Dataset/TB_Chest_Radiography_Database/Normal/Normal-977.png',\n",
              "  'Label': 'No'},\n",
              " {'Address': '/content/Dataset/TB_Chest_Radiography_Database/Normal/Normal-131.png',\n",
              "  'Label': 'No'},\n",
              " {'Address': '/content/Dataset/TB_Chest_Radiography_Database/Normal/Normal-3012.png',\n",
              "  'Label': 'No'},\n",
              " {'Address': '/content/Dataset/TB_Chest_Radiography_Database/Normal/Normal-2771.png',\n",
              "  'Label': 'No'},\n",
              " {'Address': '/content/Dataset/TB_Chest_Radiography_Database/Normal/Normal-855.png',\n",
              "  'Label': 'No'},\n",
              " {'Address': '/content/Dataset/TB_Chest_Radiography_Database/Tuberculosis/Tuberculosis-300.png',\n",
              "  'Label': 'TB'},\n",
              " {'Address': '/content/Dataset/TB_Chest_Radiography_Database/Normal/Normal-1080.png',\n",
              "  'Label': 'No'},\n",
              " {'Address': '/content/Dataset/TB_Chest_Radiography_Database/Normal/Normal-2359.png',\n",
              "  'Label': 'No'}]"
            ]
          },
          "metadata": {},
          "execution_count": 18
        }
      ]
    },
    {
      "cell_type": "code",
      "source": [
        "# import data_and_label_augmentation as Datagenerator\n",
        "\n",
        "# Augmentor = Datagenerator.Image_Custom_Augmentation(SP_intensity=False,\n",
        "#                                     # RO_Key=15,\n",
        "#                                     # Br_intensity=40,\n",
        "#                                     H_Key = True,\n",
        "#                                     V_Key = True)"
      ],
      "metadata": {
        "id": "Rpr9hTiyFUdC"
      },
      "id": "Rpr9hTiyFUdC",
      "execution_count": 19,
      "outputs": []
    },
    {
      "cell_type": "code",
      "source": [
        "# input_path = \"/content/Dataset/TB_Chest_Radiography_Database/Tuberculosis\"\n",
        "# output_path = \"/content/drive/MyDrive/Colab Notebooks/New_dataset/TB\"\n",
        "\n",
        "# Augmentor.Generate_Data(input_path,output_path)"
      ],
      "metadata": {
        "id": "594RF5esFUfo"
      },
      "id": "594RF5esFUfo",
      "execution_count": null,
      "outputs": []
    },
    {
      "cell_type": "code",
      "source": [
        "# TBs = len(os.listdir(\"/content/drive/MyDrive/Colab Notebooks/New_dataset/TB\"))\n",
        "# Normals = len(os.listdir(\"/content/drive/MyDrive/Colab Notebooks/New_dataset/Normal\"))\n",
        "# print(f\"Number of Normal Samples: {Normals}\\nNumber of Tuberculosis Samples: {TBs}\")"
      ],
      "metadata": {
        "colab": {
          "base_uri": "https://localhost:8080/"
        },
        "id": "dzKIhUaLIZIr",
        "outputId": "cf002600-517c-497a-9abe-9b82563cd12b"
      },
      "id": "dzKIhUaLIZIr",
      "execution_count": 8,
      "outputs": [
        {
          "output_type": "stream",
          "name": "stdout",
          "text": [
            "Number of Normal Samples: 3500\n",
            "Number of Tuberculosis Samples: 1400\n"
          ]
        }
      ]
    },
    {
      "cell_type": "markdown",
      "metadata": {
        "id": "71bcb219"
      },
      "source": [
        "# Defining a function to create CNN model"
      ],
      "id": "71bcb219"
    },
    {
      "cell_type": "code",
      "execution_count": 2,
      "metadata": {
        "id": "595d7586",
        "colab": {
          "base_uri": "https://localhost:8080/"
        },
        "outputId": "e604fab7-2917-41ce-ca95-9237224ef4d7"
      },
      "outputs": [
        {
          "output_type": "stream",
          "name": "stderr",
          "text": [
            "WARNING:tensorflow:`input_shape` is undefined or non-square, or `rows` is not in [96, 128, 160, 192, 224]. Weights for input shape (224, 224) will be loaded as the default.\n"
          ]
        }
      ],
      "source": [
        "image_size = 512\n",
        "MobileNetV2 = MobileNetV2(weights='imagenet',include_top=False,input_shape=(image_size,image_size,3))\n",
        "model = MobileNetV2.output\n",
        "model = tf.keras.layers.GlobalAveragePooling2D()(model)\n",
        "model = tf.keras.layers.Dropout(rate=0.5)(model)\n",
        "model = tf.keras.layers.Dense(1,activation='sigmoid')(model)\n",
        "model = tf.keras.models.Model(inputs=MobileNetV2.input, outputs = model)"
      ],
      "id": "595d7586"
    },
    {
      "cell_type": "code",
      "execution_count": 3,
      "metadata": {
        "id": "afe93642"
      },
      "outputs": [],
      "source": [
        "opt = SGD(learning_rate=0.008)\n",
        "model.compile(loss='binary_crossentropy', optimizer = opt, metrics= ['accuracy','Recall','Precision'])"
      ],
      "id": "afe93642"
    },
    {
      "cell_type": "code",
      "execution_count": 4,
      "metadata": {
        "id": "6db27511"
      },
      "outputs": [],
      "source": [
        "# csv_logger = CSVLogger('/content/drive/MyDrive/Colab Notebooks/Tensorflow_Logs/MobileNetV2.csv', separator=\",\")\n",
        "checkpoint = ModelCheckpoint(\"/content/drive/MyDrive/Colab Notebooks/Tensorflow_Logs/MobileNetV2.h5\", monitor=\"val_recall\", save_best_only=True, mode=\"auto\", verbose=1)\n",
        "reduce_lr = ReduceLROnPlateau(monitor = 'val_recall',\n",
        "                              factor = 0.8,\n",
        "                              patience = 3,\n",
        "                              min_delta = 0.001,\n",
        "                              mode='auto',\n",
        "                              verbose=1)"
      ],
      "id": "6db27511"
    },
    {
      "cell_type": "code",
      "execution_count": 5,
      "metadata": {
        "id": "57d836ef"
      },
      "outputs": [],
      "source": [
        "def train_generator(TRAINING_DIR):\n",
        "\n",
        "    train_datagen = ImageDataGenerator(rescale=1/255)\n",
        "    train_generator = train_datagen.flow_from_directory(directory=TRAINING_DIR,\n",
        "                                                        batch_size=4,\n",
        "                                                        class_mode='binary',\n",
        "                                                        target_size=(512, 512))\n",
        "\n",
        "    return train_generator"
      ],
      "id": "57d836ef"
    },
    {
      "cell_type": "code",
      "execution_count": 6,
      "metadata": {
        "id": "fa28c5b2"
      },
      "outputs": [],
      "source": [
        "def test_generator(TEST_DIR):\n",
        "\n",
        "    test_datagen = ImageDataGenerator(rescale=1/255)\n",
        "    test_generator = test_datagen.flow_from_directory(directory=TEST_DIR,\n",
        "                                                      batch_size=4,\n",
        "                                                      class_mode='binary',\n",
        "                                                      target_size=(512,512))\n",
        "\n",
        "    return test_generator"
      ],
      "id": "fa28c5b2"
    },
    {
      "cell_type": "code",
      "source": [
        "# from sklearn.model_selection import *\n",
        "# import shutil\n",
        "# import os\n",
        "# import random\n",
        "\n",
        "# def shuffle_and_split_data(src_dir, dest_dir, split_percent):\n",
        "#     # Get the list of image filenames in the source directory\n",
        "#     image_filenames = os.listdir(src_dir)\n",
        "#     num_images = len(image_filenames)\n",
        "\n",
        "#     # Shuffle the image filenames\n",
        "#     random.shuffle(image_filenames)\n",
        "\n",
        "#     # Calculate the number of images to move to the validation set\n",
        "#     num_images_to_move = int(num_images * split_percent)\n",
        "\n",
        "#     # Move the images to the destination directory\n",
        "#     for i in tqdm(range(num_images_to_move)):\n",
        "#         image_filename = image_filenames[i]\n",
        "#         src_path = os.path.join(src_dir, image_filename)\n",
        "#         dest_path = os.path.join(dest_dir, image_filename)\n",
        "#         shutil.move(src_path, dest_path)\n",
        "\n",
        "# # Paths to the source and destination directories\n",
        "# train_tb_dir = \"/content/drive/MyDrive/Colab Notebooks/New_dataset/TB\"\n",
        "# train_normal_dir = \"/content/drive/MyDrive/Colab Notebooks/New_dataset/Normal\"\n",
        "# validation_dir = \"/content/drive/MyDrive/Colab Notebooks/New_dataset/validation\"\n",
        "# os.makedirs(validation_dir, exist_ok=True)\n",
        "\n",
        "# # Create the Normal and TB directories inside the validation directory\n",
        "# validation_normal_dir = os.path.join(validation_dir, \"Normal\")\n",
        "# validation_tb_dir = os.path.join(validation_dir, \"TB\")\n",
        "# os.makedirs(validation_normal_dir, exist_ok=True)\n",
        "# os.makedirs(validation_tb_dir, exist_ok=True)\n",
        "\n",
        "# # Shuffle and move Normal images to the validation set\n",
        "# split_percent = 0.25\n",
        "# shuffle_and_split_data(train_normal_dir, validation_normal_dir, split_percent)\n",
        "\n",
        "# # Shuffle and move TB images to the validation set\n",
        "# shuffle_and_split_data(train_tb_dir, validation_tb_dir, split_percent)\n",
        "\n",
        "# print(\"Data shuffling and splitting complete.\")\n"
      ],
      "metadata": {
        "colab": {
          "base_uri": "https://localhost:8080/"
        },
        "id": "YjcihfZyKw5e",
        "outputId": "3bbe5e97-bc08-4dfc-9bd5-8c4d55f0fadc"
      },
      "id": "YjcihfZyKw5e",
      "execution_count": 17,
      "outputs": [
        {
          "output_type": "stream",
          "name": "stderr",
          "text": [
            "100%|██████████| 875/875 [00:02<00:00, 347.28it/s]\n",
            "100%|██████████| 350/350 [00:01<00:00, 343.79it/s]"
          ]
        },
        {
          "output_type": "stream",
          "name": "stdout",
          "text": [
            "Data shuffling and splitting complete.\n"
          ]
        },
        {
          "output_type": "stream",
          "name": "stderr",
          "text": [
            "\n"
          ]
        }
      ]
    },
    {
      "cell_type": "code",
      "source": [
        "TBs = len(os.listdir(\"/content/drive/MyDrive/Colab Notebooks/New_dataset/train/TB\"))\n",
        "Normals = len(os.listdir(\"/content/drive/MyDrive/Colab Notebooks/New_dataset/train/Normal\"))\n",
        "print(f\"Number of Normal train Samples: {Normals}\\nNumber of Tuberculosis train Samples: {TBs}\")"
      ],
      "metadata": {
        "colab": {
          "base_uri": "https://localhost:8080/"
        },
        "id": "gAcTvWenLRMm",
        "outputId": "8abf8279-baf4-4a9b-ef3d-8c024be6effa"
      },
      "id": "gAcTvWenLRMm",
      "execution_count": 7,
      "outputs": [
        {
          "output_type": "stream",
          "name": "stdout",
          "text": [
            "Number of Normal train Samples: 2625\n",
            "Number of Tuberculosis train Samples: 1050\n"
          ]
        }
      ]
    },
    {
      "cell_type": "code",
      "source": [
        "TBs = len(os.listdir(\"/content/drive/MyDrive/Colab Notebooks/New_dataset/validation/TB\"))\n",
        "Normals = len(os.listdir(\"/content/drive/MyDrive/Colab Notebooks/New_dataset/validation/Normal\"))\n",
        "print(f\"Number of Normal validation Samples: {Normals}\\nNumber of Tuberculosis validation Samples: {TBs}\")"
      ],
      "metadata": {
        "colab": {
          "base_uri": "https://localhost:8080/"
        },
        "id": "NvUskOQ8LlN2",
        "outputId": "d576b4dd-241a-4270-e49d-eafe0c213c6b"
      },
      "id": "NvUskOQ8LlN2",
      "execution_count": 8,
      "outputs": [
        {
          "output_type": "stream",
          "name": "stdout",
          "text": [
            "Number of Normal validation Samples: 875\n",
            "Number of Tuberculosis validation Samples: 350\n"
          ]
        }
      ]
    },
    {
      "cell_type": "code",
      "execution_count": 9,
      "metadata": {
        "id": "4332b7d0"
      },
      "outputs": [],
      "source": [
        "Train_Dir = '/content/drive/MyDrive/Colab Notebooks/New_dataset/train'\n",
        "Test_Dir = '/content/drive/MyDrive/Colab Notebooks/New_dataset/validation'"
      ],
      "id": "4332b7d0"
    },
    {
      "cell_type": "code",
      "execution_count": 10,
      "metadata": {
        "colab": {
          "base_uri": "https://localhost:8080/"
        },
        "id": "8376b32a",
        "outputId": "419888cb-01d0-4654-d482-679da82fdf48"
      },
      "outputs": [
        {
          "output_type": "stream",
          "name": "stdout",
          "text": [
            "Found 3675 images belonging to 2 classes.\n"
          ]
        }
      ],
      "source": [
        "train_generator = train_generator(TRAINING_DIR=Train_Dir)"
      ],
      "id": "8376b32a"
    },
    {
      "cell_type": "code",
      "execution_count": 11,
      "metadata": {
        "colab": {
          "base_uri": "https://localhost:8080/"
        },
        "id": "71121b29",
        "outputId": "8181d41e-a26e-4a3b-9d91-a230e5f7b242"
      },
      "outputs": [
        {
          "output_type": "stream",
          "name": "stdout",
          "text": [
            "Found 1225 images belonging to 2 classes.\n"
          ]
        }
      ],
      "source": [
        "validation_generator = test_generator(TEST_DIR=Test_Dir)"
      ],
      "id": "71121b29"
    },
    {
      "cell_type": "code",
      "execution_count": 12,
      "metadata": {
        "colab": {
          "base_uri": "https://localhost:8080/"
        },
        "id": "4903465d",
        "scrolled": true,
        "outputId": "38c700ed-5b56-4c41-b618-9a1cff0d023f"
      },
      "outputs": [
        {
          "output_type": "stream",
          "name": "stdout",
          "text": [
            "Epoch 1/80\n",
            "50/50 [==============================] - ETA: 0s - loss: 0.3886 - accuracy: 0.8550 - recall: 0.6316 - precision: 0.8182\n",
            "Epoch 1: val_recall improved from inf to 0.99429, saving model to /content/drive/MyDrive/Colab Notebooks/Tensorflow_Logs/MobileNetV2.h5\n",
            "50/50 [==============================] - 45s 544ms/step - loss: 0.3886 - accuracy: 0.8550 - recall: 0.6316 - precision: 0.8182 - val_loss: 0.8635 - val_accuracy: 0.2939 - val_recall: 0.9943 - val_precision: 0.2874 - lr: 0.0080\n",
            "Epoch 2/80\n",
            "50/50 [==============================] - ETA: 0s - loss: 0.1850 - accuracy: 0.9450 - recall: 0.9123 - precision: 0.8966\n",
            "Epoch 2: val_recall improved from 0.99429 to 0.98571, saving model to /content/drive/MyDrive/Colab Notebooks/Tensorflow_Logs/MobileNetV2.h5\n",
            "50/50 [==============================] - 24s 480ms/step - loss: 0.1850 - accuracy: 0.9450 - recall: 0.9123 - precision: 0.8966 - val_loss: 0.5030 - val_accuracy: 0.7616 - val_recall: 0.9857 - val_precision: 0.5459 - lr: 0.0080\n",
            "Epoch 3/80\n",
            "50/50 [==============================] - ETA: 0s - loss: 0.0797 - accuracy: 0.9800 - recall: 0.9216 - precision: 1.0000\n",
            "Epoch 3: val_recall improved from 0.98571 to 0.92857, saving model to /content/drive/MyDrive/Colab Notebooks/Tensorflow_Logs/MobileNetV2.h5\n",
            "50/50 [==============================] - 26s 533ms/step - loss: 0.0797 - accuracy: 0.9800 - recall: 0.9216 - precision: 1.0000 - val_loss: 0.4173 - val_accuracy: 0.8278 - val_recall: 0.9286 - val_precision: 0.6360 - lr: 0.0080\n",
            "Epoch 4/80\n",
            "50/50 [==============================] - ETA: 0s - loss: 0.0689 - accuracy: 0.9800 - recall: 0.9412 - precision: 0.9796\n",
            "Epoch 4: val_recall did not improve from 0.92857\n",
            "50/50 [==============================] - 23s 464ms/step - loss: 0.0689 - accuracy: 0.9800 - recall: 0.9412 - precision: 0.9796 - val_loss: 0.3568 - val_accuracy: 0.9143 - val_recall: 0.9571 - val_precision: 0.7882 - lr: 0.0080\n",
            "Epoch 5/80\n",
            "50/50 [==============================] - ETA: 0s - loss: 0.1583 - accuracy: 0.9550 - recall: 0.8824 - precision: 0.9836\n",
            "Epoch 5: val_recall did not improve from 0.92857\n",
            "50/50 [==============================] - 23s 467ms/step - loss: 0.1583 - accuracy: 0.9550 - recall: 0.8824 - precision: 0.9836 - val_loss: 1.1233 - val_accuracy: 0.2914 - val_recall: 1.0000 - val_precision: 0.2874 - lr: 0.0080\n",
            "Epoch 6/80\n",
            "50/50 [==============================] - ETA: 0s - loss: 0.0969 - accuracy: 0.9800 - recall: 0.9464 - precision: 0.9815\n",
            "Epoch 6: val_recall did not improve from 0.92857\n",
            "\n",
            "Epoch 6: ReduceLROnPlateau reducing learning rate to 0.006400000303983688.\n",
            "50/50 [==============================] - 25s 507ms/step - loss: 0.0969 - accuracy: 0.9800 - recall: 0.9464 - precision: 0.9815 - val_loss: 0.4278 - val_accuracy: 0.7706 - val_recall: 0.9600 - val_precision: 0.5572 - lr: 0.0080\n",
            "Epoch 7/80\n",
            "50/50 [==============================] - ETA: 0s - loss: 0.1635 - accuracy: 0.9600 - recall: 0.8889 - precision: 0.9600\n",
            "Epoch 7: val_recall did not improve from 0.92857\n",
            "50/50 [==============================] - 22s 437ms/step - loss: 0.1635 - accuracy: 0.9600 - recall: 0.8889 - precision: 0.9600 - val_loss: 0.9947 - val_accuracy: 0.3118 - val_recall: 1.0000 - val_precision: 0.2934 - lr: 0.0064\n",
            "Epoch 8/80\n",
            "50/50 [==============================] - ETA: 0s - loss: 0.1158 - accuracy: 0.9850 - recall: 0.9643 - precision: 0.9818\n",
            "Epoch 8: val_recall did not improve from 0.92857\n",
            "50/50 [==============================] - 25s 508ms/step - loss: 0.1158 - accuracy: 0.9850 - recall: 0.9643 - precision: 0.9818 - val_loss: 0.7091 - val_accuracy: 0.4890 - val_recall: 1.0000 - val_precision: 0.3586 - lr: 0.0064\n",
            "Epoch 9/80\n",
            "50/50 [==============================] - ETA: 0s - loss: 0.0666 - accuracy: 0.9850 - recall: 0.9615 - precision: 0.9804\n",
            "Epoch 9: val_recall did not improve from 0.92857\n",
            "\n",
            "Epoch 9: ReduceLROnPlateau reducing learning rate to 0.005120000243186951.\n",
            "50/50 [==============================] - 22s 440ms/step - loss: 0.0666 - accuracy: 0.9850 - recall: 0.9615 - precision: 0.9804 - val_loss: 0.9354 - val_accuracy: 0.3453 - val_recall: 1.0000 - val_precision: 0.3038 - lr: 0.0064\n",
            "Epoch 10/80\n",
            "50/50 [==============================] - ETA: 0s - loss: 0.0702 - accuracy: 0.9900 - recall: 0.9615 - precision: 1.0000\n",
            "Epoch 10: val_recall did not improve from 0.92857\n",
            "50/50 [==============================] - 23s 465ms/step - loss: 0.0702 - accuracy: 0.9900 - recall: 0.9615 - precision: 1.0000 - val_loss: 0.7072 - val_accuracy: 0.4890 - val_recall: 1.0000 - val_precision: 0.3586 - lr: 0.0051\n",
            "Epoch 11/80\n",
            "50/50 [==============================] - ETA: 0s - loss: 0.1353 - accuracy: 0.9650 - recall: 0.8966 - precision: 0.9811\n",
            "Epoch 11: val_recall did not improve from 0.92857\n",
            "50/50 [==============================] - 23s 462ms/step - loss: 0.1353 - accuracy: 0.9650 - recall: 0.8966 - precision: 0.9811 - val_loss: 0.6055 - val_accuracy: 0.5829 - val_recall: 0.9971 - val_precision: 0.4063 - lr: 0.0051\n",
            "Epoch 12/80\n",
            "50/50 [==============================] - ETA: 0s - loss: 0.1173 - accuracy: 0.9700 - recall: 0.9231 - precision: 0.9836\n",
            "Epoch 12: val_recall did not improve from 0.92857\n",
            "\n",
            "Epoch 12: ReduceLROnPlateau reducing learning rate to 0.004096000269055366.\n",
            "50/50 [==============================] - 22s 450ms/step - loss: 0.1173 - accuracy: 0.9700 - recall: 0.9231 - precision: 0.9836 - val_loss: 0.8473 - val_accuracy: 0.3502 - val_recall: 1.0000 - val_precision: 0.3054 - lr: 0.0051\n",
            "Epoch 13/80\n",
            "50/50 [==============================] - ETA: 0s - loss: 0.0907 - accuracy: 0.9700 - recall: 0.9074 - precision: 0.9800\n",
            "Epoch 13: val_recall did not improve from 0.92857\n",
            "50/50 [==============================] - 23s 465ms/step - loss: 0.0907 - accuracy: 0.9700 - recall: 0.9074 - precision: 0.9800 - val_loss: 1.2942 - val_accuracy: 0.2890 - val_recall: 1.0000 - val_precision: 0.2867 - lr: 0.0041\n",
            "Epoch 14/80\n",
            "50/50 [==============================] - ETA: 0s - loss: 0.0849 - accuracy: 0.9900 - recall: 0.9643 - precision: 1.0000\n",
            "Epoch 14: val_recall did not improve from 0.92857\n",
            "50/50 [==============================] - 23s 470ms/step - loss: 0.0849 - accuracy: 0.9900 - recall: 0.9643 - precision: 1.0000 - val_loss: 1.2089 - val_accuracy: 0.2873 - val_recall: 1.0000 - val_precision: 0.2862 - lr: 0.0041\n",
            "Epoch 15/80\n",
            "50/50 [==============================] - ETA: 0s - loss: 0.0799 - accuracy: 0.9800 - recall: 0.9508 - precision: 0.9831\n",
            "Epoch 15: val_recall did not improve from 0.92857\n",
            "\n",
            "Epoch 15: ReduceLROnPlateau reducing learning rate to 0.0032768003642559052.\n",
            "50/50 [==============================] - 23s 474ms/step - loss: 0.0799 - accuracy: 0.9800 - recall: 0.9508 - precision: 0.9831 - val_loss: 1.4096 - val_accuracy: 0.2873 - val_recall: 1.0000 - val_precision: 0.2862 - lr: 0.0041\n",
            "Epoch 16/80\n",
            "50/50 [==============================] - ETA: 0s - loss: 0.0836 - accuracy: 0.9800 - recall: 0.9492 - precision: 0.9825\n",
            "Epoch 16: val_recall did not improve from 0.92857\n",
            "50/50 [==============================] - 24s 479ms/step - loss: 0.0836 - accuracy: 0.9800 - recall: 0.9492 - precision: 0.9825 - val_loss: 1.5623 - val_accuracy: 0.2865 - val_recall: 1.0000 - val_precision: 0.2859 - lr: 0.0033\n",
            "Epoch 17/80\n",
            "50/50 [==============================] - ETA: 0s - loss: 0.0874 - accuracy: 0.9850 - recall: 0.9538 - precision: 1.0000\n",
            "Epoch 17: val_recall did not improve from 0.92857\n",
            "50/50 [==============================] - 23s 476ms/step - loss: 0.0874 - accuracy: 0.9850 - recall: 0.9538 - precision: 1.0000 - val_loss: 1.4968 - val_accuracy: 0.2906 - val_recall: 1.0000 - val_precision: 0.2871 - lr: 0.0033\n",
            "Epoch 18/80\n",
            "50/50 [==============================] - ETA: 0s - loss: 0.0454 - accuracy: 0.9950 - recall: 0.9825 - precision: 1.0000\n",
            "Epoch 18: val_recall did not improve from 0.92857\n",
            "\n",
            "Epoch 18: ReduceLROnPlateau reducing learning rate to 0.002621440216898918.\n",
            "50/50 [==============================] - 25s 506ms/step - loss: 0.0454 - accuracy: 0.9950 - recall: 0.9825 - precision: 1.0000 - val_loss: 1.7091 - val_accuracy: 0.2865 - val_recall: 1.0000 - val_precision: 0.2859 - lr: 0.0033\n",
            "Epoch 19/80\n",
            "50/50 [==============================] - ETA: 0s - loss: 0.0682 - accuracy: 0.9850 - recall: 0.9508 - precision: 1.0000\n",
            "Epoch 19: val_recall did not improve from 0.92857\n",
            "50/50 [==============================] - 22s 453ms/step - loss: 0.0682 - accuracy: 0.9850 - recall: 0.9508 - precision: 1.0000 - val_loss: 1.8828 - val_accuracy: 0.2865 - val_recall: 1.0000 - val_precision: 0.2859 - lr: 0.0026\n",
            "Epoch 20/80\n",
            "50/50 [==============================] - ETA: 0s - loss: 0.0295 - accuracy: 0.9950 - recall: 0.9808 - precision: 1.0000\n",
            "Epoch 20: val_recall did not improve from 0.92857\n",
            "50/50 [==============================] - 23s 465ms/step - loss: 0.0295 - accuracy: 0.9950 - recall: 0.9808 - precision: 1.0000 - val_loss: 1.8568 - val_accuracy: 0.2882 - val_recall: 1.0000 - val_precision: 0.2864 - lr: 0.0026\n",
            "Epoch 21/80\n",
            "50/50 [==============================] - ETA: 0s - loss: 0.0142 - accuracy: 1.0000 - recall: 1.0000 - precision: 1.0000\n",
            "Epoch 21: val_recall did not improve from 0.92857\n",
            "\n",
            "Epoch 21: ReduceLROnPlateau reducing learning rate to 0.0020971521735191345.\n",
            "50/50 [==============================] - 22s 445ms/step - loss: 0.0142 - accuracy: 1.0000 - recall: 1.0000 - precision: 1.0000 - val_loss: 1.7936 - val_accuracy: 0.2914 - val_recall: 1.0000 - val_precision: 0.2874 - lr: 0.0026\n",
            "Epoch 22/80\n",
            "50/50 [==============================] - ETA: 0s - loss: 0.0201 - accuracy: 0.9950 - recall: 0.9815 - precision: 1.0000\n",
            "Epoch 22: val_recall did not improve from 0.92857\n",
            "50/50 [==============================] - 25s 507ms/step - loss: 0.0201 - accuracy: 0.9950 - recall: 0.9815 - precision: 1.0000 - val_loss: 1.5918 - val_accuracy: 0.3037 - val_recall: 1.0000 - val_precision: 0.2909 - lr: 0.0021\n",
            "Epoch 23/80\n",
            "50/50 [==============================] - ETA: 0s - loss: 0.0284 - accuracy: 0.9950 - recall: 0.9818 - precision: 1.0000\n",
            "Epoch 23: val_recall did not improve from 0.92857\n",
            "50/50 [==============================] - 23s 474ms/step - loss: 0.0284 - accuracy: 0.9950 - recall: 0.9818 - precision: 1.0000 - val_loss: 1.5625 - val_accuracy: 0.3167 - val_recall: 1.0000 - val_precision: 0.2949 - lr: 0.0021\n",
            "Epoch 24/80\n",
            "50/50 [==============================] - ETA: 0s - loss: 0.0131 - accuracy: 1.0000 - recall: 1.0000 - precision: 1.0000\n",
            "Epoch 24: val_recall did not improve from 0.92857\n",
            "\n",
            "Epoch 24: ReduceLROnPlateau reducing learning rate to 0.0016777217388153076.\n",
            "50/50 [==============================] - 22s 449ms/step - loss: 0.0131 - accuracy: 1.0000 - recall: 1.0000 - precision: 1.0000 - val_loss: 1.5479 - val_accuracy: 0.3265 - val_recall: 1.0000 - val_precision: 0.2979 - lr: 0.0021\n",
            "Epoch 25/80\n",
            "50/50 [==============================] - ETA: 0s - loss: 0.0558 - accuracy: 0.9800 - recall: 0.9403 - precision: 1.0000\n",
            "Epoch 25: val_recall did not improve from 0.92857\n",
            "50/50 [==============================] - 25s 506ms/step - loss: 0.0558 - accuracy: 0.9800 - recall: 0.9403 - precision: 1.0000 - val_loss: 1.3338 - val_accuracy: 0.3592 - val_recall: 1.0000 - val_precision: 0.3084 - lr: 0.0017\n",
            "Epoch 26/80\n",
            "50/50 [==============================] - ETA: 0s - loss: 0.0151 - accuracy: 1.0000 - recall: 1.0000 - precision: 1.0000\n",
            "Epoch 26: val_recall did not improve from 0.92857\n",
            "50/50 [==============================] - 23s 464ms/step - loss: 0.0151 - accuracy: 1.0000 - recall: 1.0000 - precision: 1.0000 - val_loss: 1.2408 - val_accuracy: 0.3690 - val_recall: 1.0000 - val_precision: 0.3117 - lr: 0.0017\n",
            "Epoch 27/80\n",
            "50/50 [==============================] - ETA: 0s - loss: 0.0594 - accuracy: 0.9800 - recall: 0.9365 - precision: 1.0000\n",
            "Epoch 27: val_recall did not improve from 0.92857\n",
            "\n",
            "Epoch 27: ReduceLROnPlateau reducing learning rate to 0.001342177391052246.\n",
            "50/50 [==============================] - 22s 446ms/step - loss: 0.0594 - accuracy: 0.9800 - recall: 0.9365 - precision: 1.0000 - val_loss: 0.9273 - val_accuracy: 0.4229 - val_recall: 1.0000 - val_precision: 0.3311 - lr: 0.0017\n",
            "Epoch 28/80\n",
            "50/50 [==============================] - ETA: 0s - loss: 0.0251 - accuracy: 1.0000 - recall: 1.0000 - precision: 1.0000\n",
            "Epoch 28: val_recall did not improve from 0.92857\n",
            "50/50 [==============================] - 25s 504ms/step - loss: 0.0251 - accuracy: 1.0000 - recall: 1.0000 - precision: 1.0000 - val_loss: 0.7580 - val_accuracy: 0.5069 - val_recall: 1.0000 - val_precision: 0.3669 - lr: 0.0013\n",
            "Epoch 29/80\n",
            "50/50 [==============================] - ETA: 0s - loss: 0.0130 - accuracy: 1.0000 - recall: 1.0000 - precision: 1.0000\n",
            "Epoch 29: val_recall did not improve from 0.92857\n",
            "50/50 [==============================] - 22s 452ms/step - loss: 0.0130 - accuracy: 1.0000 - recall: 1.0000 - precision: 1.0000 - val_loss: 0.6835 - val_accuracy: 0.5478 - val_recall: 1.0000 - val_precision: 0.3872 - lr: 0.0013\n",
            "Epoch 30/80\n",
            "50/50 [==============================] - ETA: 0s - loss: 0.0316 - accuracy: 0.9900 - recall: 0.9661 - precision: 1.0000\n",
            "Epoch 30: val_recall did not improve from 0.92857\n",
            "\n",
            "Epoch 30: ReduceLROnPlateau reducing learning rate to 0.001073741912841797.\n",
            "50/50 [==============================] - 23s 472ms/step - loss: 0.0316 - accuracy: 0.9900 - recall: 0.9661 - precision: 1.0000 - val_loss: 0.5684 - val_accuracy: 0.6580 - val_recall: 1.0000 - val_precision: 0.4551 - lr: 0.0013\n",
            "Epoch 31/80\n",
            "50/50 [==============================] - ETA: 0s - loss: 0.1457 - accuracy: 0.9850 - recall: 0.9516 - precision: 1.0000\n",
            "Epoch 31: val_recall did not improve from 0.92857\n",
            "50/50 [==============================] - 23s 468ms/step - loss: 0.1457 - accuracy: 0.9850 - recall: 0.9516 - precision: 1.0000 - val_loss: 0.5238 - val_accuracy: 0.6865 - val_recall: 1.0000 - val_precision: 0.4768 - lr: 0.0011\n",
            "Epoch 32/80\n",
            "50/50 [==============================] - ETA: 0s - loss: 0.0234 - accuracy: 1.0000 - recall: 1.0000 - precision: 1.0000\n",
            "Epoch 32: val_recall did not improve from 0.92857\n",
            "50/50 [==============================] - 23s 467ms/step - loss: 0.0234 - accuracy: 1.0000 - recall: 1.0000 - precision: 1.0000 - val_loss: 0.4985 - val_accuracy: 0.7110 - val_recall: 1.0000 - val_precision: 0.4972 - lr: 0.0011\n",
            "Epoch 33/80\n",
            "50/50 [==============================] - ETA: 0s - loss: 0.0350 - accuracy: 0.9900 - recall: 1.0000 - precision: 0.9697\n",
            "Epoch 33: val_recall did not improve from 0.92857\n",
            "\n",
            "Epoch 33: ReduceLROnPlateau reducing learning rate to 0.000858993548899889.\n",
            "50/50 [==============================] - 25s 507ms/step - loss: 0.0350 - accuracy: 0.9900 - recall: 1.0000 - precision: 0.9697 - val_loss: 0.4504 - val_accuracy: 0.7527 - val_recall: 1.0000 - val_precision: 0.5360 - lr: 0.0011\n",
            "Epoch 34/80\n",
            "50/50 [==============================] - ETA: 0s - loss: 0.0176 - accuracy: 0.9950 - recall: 0.9808 - precision: 1.0000\n",
            "Epoch 34: val_recall did not improve from 0.92857\n",
            "50/50 [==============================] - 23s 461ms/step - loss: 0.0176 - accuracy: 0.9950 - recall: 0.9808 - precision: 1.0000 - val_loss: 0.4204 - val_accuracy: 0.7731 - val_recall: 1.0000 - val_precision: 0.5573 - lr: 8.5899e-04\n",
            "Epoch 35/80\n",
            "50/50 [==============================] - ETA: 0s - loss: 0.0524 - accuracy: 0.9850 - recall: 0.9483 - precision: 1.0000\n",
            "Epoch 35: val_recall did not improve from 0.92857\n",
            "50/50 [==============================] - 22s 446ms/step - loss: 0.0524 - accuracy: 0.9850 - recall: 0.9483 - precision: 1.0000 - val_loss: 0.3539 - val_accuracy: 0.8327 - val_recall: 1.0000 - val_precision: 0.6306 - lr: 8.5899e-04\n",
            "Epoch 36/80\n",
            "50/50 [==============================] - ETA: 0s - loss: 0.0138 - accuracy: 0.9950 - recall: 1.0000 - precision: 0.9825\n",
            "Epoch 36: val_recall did not improve from 0.92857\n",
            "\n",
            "Epoch 36: ReduceLROnPlateau reducing learning rate to 0.000687194848433137.\n",
            "50/50 [==============================] - 23s 468ms/step - loss: 0.0138 - accuracy: 0.9950 - recall: 1.0000 - precision: 0.9825 - val_loss: 0.3215 - val_accuracy: 0.8580 - val_recall: 1.0000 - val_precision: 0.6679 - lr: 8.5899e-04\n",
            "Epoch 37/80\n",
            "50/50 [==============================] - ETA: 0s - loss: 0.0159 - accuracy: 1.0000 - recall: 1.0000 - precision: 1.0000\n",
            "Epoch 37: val_recall did not improve from 0.92857\n",
            "50/50 [==============================] - 23s 462ms/step - loss: 0.0159 - accuracy: 1.0000 - recall: 1.0000 - precision: 1.0000 - val_loss: 0.2921 - val_accuracy: 0.8784 - val_recall: 1.0000 - val_precision: 0.7014 - lr: 6.8719e-04\n",
            "Epoch 38/80\n",
            "50/50 [==============================] - ETA: 0s - loss: 0.0611 - accuracy: 0.9950 - recall: 0.9800 - precision: 1.0000\n",
            "Epoch 38: val_recall did not improve from 0.92857\n",
            "50/50 [==============================] - 23s 465ms/step - loss: 0.0611 - accuracy: 0.9950 - recall: 0.9800 - precision: 1.0000 - val_loss: 0.2984 - val_accuracy: 0.8735 - val_recall: 1.0000 - val_precision: 0.6931 - lr: 6.8719e-04\n",
            "Epoch 39/80\n",
            "50/50 [==============================] - ETA: 0s - loss: 0.0086 - accuracy: 1.0000 - recall: 1.0000 - precision: 1.0000\n",
            "Epoch 39: val_recall did not improve from 0.92857\n",
            "\n",
            "Epoch 39: ReduceLROnPlateau reducing learning rate to 0.0005497558973729611.\n",
            "50/50 [==============================] - 23s 463ms/step - loss: 0.0086 - accuracy: 1.0000 - recall: 1.0000 - precision: 1.0000 - val_loss: 0.2794 - val_accuracy: 0.8833 - val_recall: 1.0000 - val_precision: 0.7099 - lr: 6.8719e-04\n",
            "Epoch 40/80\n",
            "50/50 [==============================] - ETA: 0s - loss: 0.0188 - accuracy: 0.9950 - recall: 0.9818 - precision: 1.0000\n",
            "Epoch 40: val_recall did not improve from 0.92857\n",
            "50/50 [==============================] - 23s 467ms/step - loss: 0.0188 - accuracy: 0.9950 - recall: 0.9818 - precision: 1.0000 - val_loss: 0.2716 - val_accuracy: 0.8873 - val_recall: 1.0000 - val_precision: 0.7172 - lr: 5.4976e-04\n",
            "Epoch 41/80\n",
            "50/50 [==============================] - ETA: 0s - loss: 0.1141 - accuracy: 0.9750 - recall: 0.9219 - precision: 1.0000\n",
            "Epoch 41: val_recall did not improve from 0.92857\n",
            "50/50 [==============================] - 23s 458ms/step - loss: 0.1141 - accuracy: 0.9750 - recall: 0.9219 - precision: 1.0000 - val_loss: 0.3118 - val_accuracy: 0.8661 - val_recall: 1.0000 - val_precision: 0.6809 - lr: 5.4976e-04\n",
            "Epoch 42/80\n",
            "50/50 [==============================] - ETA: 0s - loss: 0.0688 - accuracy: 0.9800 - recall: 0.9455 - precision: 0.9811\n",
            "Epoch 42: val_recall did not improve from 0.92857\n",
            "\n",
            "Epoch 42: ReduceLROnPlateau reducing learning rate to 0.00043980469927191735.\n",
            "50/50 [==============================] - 22s 448ms/step - loss: 0.0688 - accuracy: 0.9800 - recall: 0.9455 - precision: 0.9811 - val_loss: 0.3198 - val_accuracy: 0.8645 - val_recall: 1.0000 - val_precision: 0.6783 - lr: 5.4976e-04\n",
            "Epoch 43/80\n",
            "50/50 [==============================] - ETA: 0s - loss: 0.0246 - accuracy: 0.9950 - recall: 0.9853 - precision: 1.0000\n",
            "Epoch 43: val_recall did not improve from 0.92857\n",
            "50/50 [==============================] - 22s 451ms/step - loss: 0.0246 - accuracy: 0.9950 - recall: 0.9853 - precision: 1.0000 - val_loss: 0.2738 - val_accuracy: 0.8939 - val_recall: 1.0000 - val_precision: 0.7292 - lr: 4.3980e-04\n",
            "Epoch 44/80\n",
            "50/50 [==============================] - ETA: 0s - loss: 0.0103 - accuracy: 1.0000 - recall: 1.0000 - precision: 1.0000\n",
            "Epoch 44: val_recall did not improve from 0.92857\n",
            "50/50 [==============================] - 23s 464ms/step - loss: 0.0103 - accuracy: 1.0000 - recall: 1.0000 - precision: 1.0000 - val_loss: 0.2428 - val_accuracy: 0.9078 - val_recall: 1.0000 - val_precision: 0.7559 - lr: 4.3980e-04\n",
            "Epoch 45/80\n",
            "50/50 [==============================] - ETA: 0s - loss: 0.0166 - accuracy: 0.9950 - recall: 1.0000 - precision: 0.9836\n",
            "Epoch 45: val_recall did not improve from 0.92857\n",
            "\n",
            "Epoch 45: ReduceLROnPlateau reducing learning rate to 0.00035184375010430816.\n",
            "50/50 [==============================] - 23s 475ms/step - loss: 0.0166 - accuracy: 0.9950 - recall: 1.0000 - precision: 0.9836 - val_loss: 0.2045 - val_accuracy: 0.9322 - val_recall: 1.0000 - val_precision: 0.8083 - lr: 4.3980e-04\n",
            "Epoch 46/80\n",
            "50/50 [==============================] - ETA: 0s - loss: 0.0157 - accuracy: 1.0000 - recall: 1.0000 - precision: 1.0000\n",
            "Epoch 46: val_recall did not improve from 0.92857\n",
            "50/50 [==============================] - 23s 471ms/step - loss: 0.0157 - accuracy: 1.0000 - recall: 1.0000 - precision: 1.0000 - val_loss: 0.1838 - val_accuracy: 0.9371 - val_recall: 1.0000 - val_precision: 0.8197 - lr: 3.5184e-04\n",
            "Epoch 47/80\n",
            "50/50 [==============================] - ETA: 0s - loss: 0.0186 - accuracy: 0.9950 - recall: 0.9821 - precision: 1.0000\n",
            "Epoch 47: val_recall did not improve from 0.92857\n",
            "50/50 [==============================] - 25s 507ms/step - loss: 0.0186 - accuracy: 0.9950 - recall: 0.9821 - precision: 1.0000 - val_loss: 0.1616 - val_accuracy: 0.9478 - val_recall: 1.0000 - val_precision: 0.8454 - lr: 3.5184e-04\n",
            "Epoch 48/80\n",
            "50/50 [==============================] - ETA: 0s - loss: 0.0152 - accuracy: 1.0000 - recall: 1.0000 - precision: 1.0000\n",
            "Epoch 48: val_recall did not improve from 0.92857\n",
            "\n",
            "Epoch 48: ReduceLROnPlateau reducing learning rate to 0.00028147499542683366.\n",
            "50/50 [==============================] - 22s 452ms/step - loss: 0.0152 - accuracy: 1.0000 - recall: 1.0000 - precision: 1.0000 - val_loss: 0.1405 - val_accuracy: 0.9567 - val_recall: 0.9971 - val_precision: 0.8703 - lr: 3.5184e-04\n",
            "Epoch 49/80\n",
            "50/50 [==============================] - ETA: 0s - loss: 0.0510 - accuracy: 0.9800 - recall: 0.9429 - precision: 1.0000\n",
            "Epoch 49: val_recall did not improve from 0.92857\n",
            "50/50 [==============================] - 23s 465ms/step - loss: 0.0510 - accuracy: 0.9800 - recall: 0.9429 - precision: 1.0000 - val_loss: 0.1265 - val_accuracy: 0.9641 - val_recall: 0.9971 - val_precision: 0.8903 - lr: 2.8147e-04\n",
            "Epoch 50/80\n",
            "50/50 [==============================] - ETA: 0s - loss: 0.0672 - accuracy: 0.9900 - recall: 0.9672 - precision: 1.0000\n",
            "Epoch 50: val_recall did not improve from 0.92857\n",
            "50/50 [==============================] - 23s 471ms/step - loss: 0.0672 - accuracy: 0.9900 - recall: 0.9672 - precision: 1.0000 - val_loss: 0.1218 - val_accuracy: 0.9657 - val_recall: 0.9971 - val_precision: 0.8949 - lr: 2.8147e-04\n",
            "Epoch 51/80\n",
            "50/50 [==============================] - ETA: 0s - loss: 0.0127 - accuracy: 1.0000 - recall: 1.0000 - precision: 1.0000\n",
            "Epoch 51: val_recall did not improve from 0.92857\n",
            "\n",
            "Epoch 51: ReduceLROnPlateau reducing learning rate to 0.00022517999168485405.\n",
            "50/50 [==============================] - 25s 516ms/step - loss: 0.0127 - accuracy: 1.0000 - recall: 1.0000 - precision: 1.0000 - val_loss: 0.1069 - val_accuracy: 0.9739 - val_recall: 0.9971 - val_precision: 0.9184 - lr: 2.8147e-04\n",
            "Epoch 52/80\n",
            "50/50 [==============================] - ETA: 0s - loss: 0.0163 - accuracy: 0.9950 - recall: 1.0000 - precision: 0.9828\n",
            "Epoch 52: val_recall did not improve from 0.92857\n",
            "50/50 [==============================] - 25s 508ms/step - loss: 0.0163 - accuracy: 0.9950 - recall: 1.0000 - precision: 0.9828 - val_loss: 0.0949 - val_accuracy: 0.9780 - val_recall: 0.9971 - val_precision: 0.9307 - lr: 2.2518e-04\n",
            "Epoch 53/80\n",
            "50/50 [==============================] - ETA: 0s - loss: 0.0134 - accuracy: 1.0000 - recall: 1.0000 - precision: 1.0000\n",
            "Epoch 53: val_recall did not improve from 0.92857\n",
            "50/50 [==============================] - 22s 453ms/step - loss: 0.0134 - accuracy: 1.0000 - recall: 1.0000 - precision: 1.0000 - val_loss: 0.0860 - val_accuracy: 0.9812 - val_recall: 0.9971 - val_precision: 0.9407 - lr: 2.2518e-04\n",
            "Epoch 54/80\n",
            "50/50 [==============================] - ETA: 0s - loss: 0.0315 - accuracy: 0.9950 - recall: 0.9821 - precision: 1.0000\n",
            "Epoch 54: val_recall did not improve from 0.92857\n",
            "\n",
            "Epoch 54: ReduceLROnPlateau reducing learning rate to 0.0001801439910195768.\n",
            "50/50 [==============================] - 22s 445ms/step - loss: 0.0315 - accuracy: 0.9950 - recall: 0.9821 - precision: 1.0000 - val_loss: 0.0758 - val_accuracy: 0.9829 - val_recall: 0.9971 - val_precision: 0.9458 - lr: 2.2518e-04\n",
            "Epoch 55/80\n",
            "50/50 [==============================] - ETA: 0s - loss: 0.0221 - accuracy: 1.0000 - recall: 1.0000 - precision: 1.0000\n",
            "Epoch 55: val_recall did not improve from 0.92857\n",
            "50/50 [==============================] - 22s 453ms/step - loss: 0.0221 - accuracy: 1.0000 - recall: 1.0000 - precision: 1.0000 - val_loss: 0.0669 - val_accuracy: 0.9845 - val_recall: 0.9971 - val_precision: 0.9510 - lr: 1.8014e-04\n",
            "Epoch 56/80\n",
            "50/50 [==============================] - ETA: 0s - loss: 0.0111 - accuracy: 1.0000 - recall: 1.0000 - precision: 1.0000\n",
            "Epoch 56: val_recall did not improve from 0.92857\n",
            "50/50 [==============================] - 25s 506ms/step - loss: 0.0111 - accuracy: 1.0000 - recall: 1.0000 - precision: 1.0000 - val_loss: 0.0589 - val_accuracy: 0.9886 - val_recall: 0.9971 - val_precision: 0.9641 - lr: 1.8014e-04\n",
            "Epoch 57/80\n",
            "50/50 [==============================] - ETA: 0s - loss: 0.0088 - accuracy: 1.0000 - recall: 1.0000 - precision: 1.0000\n",
            "Epoch 57: val_recall did not improve from 0.92857\n",
            "\n",
            "Epoch 57: ReduceLROnPlateau reducing learning rate to 0.00014411519514396788.\n",
            "50/50 [==============================] - 25s 507ms/step - loss: 0.0088 - accuracy: 1.0000 - recall: 1.0000 - precision: 1.0000 - val_loss: 0.0522 - val_accuracy: 0.9918 - val_recall: 0.9971 - val_precision: 0.9749 - lr: 1.8014e-04\n",
            "Epoch 58/80\n",
            "50/50 [==============================] - ETA: 0s - loss: 0.0110 - accuracy: 1.0000 - recall: 1.0000 - precision: 1.0000\n",
            "Epoch 58: val_recall did not improve from 0.92857\n",
            "50/50 [==============================] - 23s 471ms/step - loss: 0.0110 - accuracy: 1.0000 - recall: 1.0000 - precision: 1.0000 - val_loss: 0.0475 - val_accuracy: 0.9935 - val_recall: 0.9971 - val_precision: 0.9803 - lr: 1.4412e-04\n",
            "Epoch 59/80\n",
            "50/50 [==============================] - ETA: 0s - loss: 0.0098 - accuracy: 1.0000 - recall: 1.0000 - precision: 1.0000\n",
            "Epoch 59: val_recall did not improve from 0.92857\n",
            "50/50 [==============================] - 23s 475ms/step - loss: 0.0098 - accuracy: 1.0000 - recall: 1.0000 - precision: 1.0000 - val_loss: 0.0433 - val_accuracy: 0.9951 - val_recall: 0.9971 - val_precision: 0.9859 - lr: 1.4412e-04\n",
            "Epoch 60/80\n",
            "50/50 [==============================] - ETA: 0s - loss: 0.0097 - accuracy: 1.0000 - recall: 1.0000 - precision: 1.0000\n",
            "Epoch 60: val_recall did not improve from 0.92857\n",
            "\n",
            "Epoch 60: ReduceLROnPlateau reducing learning rate to 0.00011529215844348074.\n",
            "50/50 [==============================] - 25s 507ms/step - loss: 0.0097 - accuracy: 1.0000 - recall: 1.0000 - precision: 1.0000 - val_loss: 0.0396 - val_accuracy: 0.9951 - val_recall: 0.9971 - val_precision: 0.9859 - lr: 1.4412e-04\n",
            "Epoch 61/80\n",
            "50/50 [==============================] - ETA: 0s - loss: 0.0138 - accuracy: 1.0000 - recall: 1.0000 - precision: 1.0000\n",
            "Epoch 61: val_recall did not improve from 0.92857\n",
            "50/50 [==============================] - 23s 469ms/step - loss: 0.0138 - accuracy: 1.0000 - recall: 1.0000 - precision: 1.0000 - val_loss: 0.0360 - val_accuracy: 0.9959 - val_recall: 0.9971 - val_precision: 0.9887 - lr: 1.1529e-04\n",
            "Epoch 62/80\n",
            "50/50 [==============================] - ETA: 0s - loss: 0.0186 - accuracy: 0.9950 - recall: 0.9818 - precision: 1.0000\n",
            "Epoch 62: val_recall did not improve from 0.92857\n",
            "50/50 [==============================] - 22s 444ms/step - loss: 0.0186 - accuracy: 0.9950 - recall: 0.9818 - precision: 1.0000 - val_loss: 0.0329 - val_accuracy: 0.9959 - val_recall: 0.9971 - val_precision: 0.9887 - lr: 1.1529e-04\n",
            "Epoch 63/80\n",
            "50/50 [==============================] - ETA: 0s - loss: 0.0373 - accuracy: 0.9850 - recall: 0.9483 - precision: 1.0000\n",
            "Epoch 63: val_recall did not improve from 0.92857\n",
            "\n",
            "Epoch 63: ReduceLROnPlateau reducing learning rate to 9.223372908309103e-05.\n",
            "50/50 [==============================] - 23s 470ms/step - loss: 0.0373 - accuracy: 0.9850 - recall: 0.9483 - precision: 1.0000 - val_loss: 0.0297 - val_accuracy: 0.9967 - val_recall: 0.9971 - val_precision: 0.9915 - lr: 1.1529e-04\n",
            "Epoch 64/80\n",
            "50/50 [==============================] - ETA: 0s - loss: 0.0303 - accuracy: 0.9950 - recall: 0.9808 - precision: 1.0000\n",
            "Epoch 64: val_recall did not improve from 0.92857\n",
            "50/50 [==============================] - 23s 461ms/step - loss: 0.0303 - accuracy: 0.9950 - recall: 0.9808 - precision: 1.0000 - val_loss: 0.0283 - val_accuracy: 0.9976 - val_recall: 0.9971 - val_precision: 0.9943 - lr: 9.2234e-05\n",
            "Epoch 65/80\n",
            "50/50 [==============================] - ETA: 0s - loss: 0.0160 - accuracy: 0.9950 - recall: 0.9811 - precision: 1.0000\n",
            "Epoch 65: val_recall did not improve from 0.92857\n",
            "50/50 [==============================] - 23s 457ms/step - loss: 0.0160 - accuracy: 0.9950 - recall: 0.9811 - precision: 1.0000 - val_loss: 0.0260 - val_accuracy: 0.9984 - val_recall: 0.9971 - val_precision: 0.9971 - lr: 9.2234e-05\n",
            "Epoch 66/80\n",
            "50/50 [==============================] - ETA: 0s - loss: 0.0122 - accuracy: 1.0000 - recall: 1.0000 - precision: 1.0000\n",
            "Epoch 66: val_recall did not improve from 0.92857\n",
            "\n",
            "Epoch 66: ReduceLROnPlateau reducing learning rate to 7.378698210231961e-05.\n",
            "50/50 [==============================] - 23s 467ms/step - loss: 0.0122 - accuracy: 1.0000 - recall: 1.0000 - precision: 1.0000 - val_loss: 0.0236 - val_accuracy: 0.9984 - val_recall: 0.9971 - val_precision: 0.9971 - lr: 9.2234e-05\n",
            "Epoch 67/80\n",
            "50/50 [==============================] - ETA: 0s - loss: 0.0394 - accuracy: 0.9850 - recall: 0.9571 - precision: 1.0000\n",
            "Epoch 67: val_recall did not improve from 0.92857\n",
            "50/50 [==============================] - 25s 507ms/step - loss: 0.0394 - accuracy: 0.9850 - recall: 0.9571 - precision: 1.0000 - val_loss: 0.0216 - val_accuracy: 0.9984 - val_recall: 0.9971 - val_precision: 0.9971 - lr: 7.3787e-05\n",
            "Epoch 68/80\n",
            "50/50 [==============================] - ETA: 0s - loss: 0.0120 - accuracy: 1.0000 - recall: 1.0000 - precision: 1.0000\n",
            "Epoch 68: val_recall did not improve from 0.92857\n",
            "50/50 [==============================] - 23s 468ms/step - loss: 0.0120 - accuracy: 1.0000 - recall: 1.0000 - precision: 1.0000 - val_loss: 0.0205 - val_accuracy: 0.9984 - val_recall: 0.9971 - val_precision: 0.9971 - lr: 7.3787e-05\n",
            "Epoch 69/80\n",
            "50/50 [==============================] - ETA: 0s - loss: 0.0128 - accuracy: 1.0000 - recall: 1.0000 - precision: 1.0000\n",
            "Epoch 69: val_recall did not improve from 0.92857\n",
            "\n",
            "Epoch 69: ReduceLROnPlateau reducing learning rate to 5.902958801016212e-05.\n",
            "50/50 [==============================] - 22s 443ms/step - loss: 0.0128 - accuracy: 1.0000 - recall: 1.0000 - precision: 1.0000 - val_loss: 0.0193 - val_accuracy: 0.9992 - val_recall: 0.9971 - val_precision: 1.0000 - lr: 7.3787e-05\n",
            "Epoch 70/80\n",
            "50/50 [==============================] - ETA: 0s - loss: 0.0540 - accuracy: 0.9850 - recall: 0.9474 - precision: 1.0000\n",
            "Epoch 70: val_recall did not improve from 0.92857\n",
            "50/50 [==============================] - 25s 508ms/step - loss: 0.0540 - accuracy: 0.9850 - recall: 0.9474 - precision: 1.0000 - val_loss: 0.0179 - val_accuracy: 0.9992 - val_recall: 0.9971 - val_precision: 1.0000 - lr: 5.9030e-05\n",
            "Epoch 71/80\n",
            "50/50 [==============================] - ETA: 0s - loss: 0.0126 - accuracy: 1.0000 - recall: 1.0000 - precision: 1.0000\n",
            "Epoch 71: val_recall did not improve from 0.92857\n",
            "50/50 [==============================] - 25s 508ms/step - loss: 0.0126 - accuracy: 1.0000 - recall: 1.0000 - precision: 1.0000 - val_loss: 0.0169 - val_accuracy: 0.9992 - val_recall: 0.9971 - val_precision: 1.0000 - lr: 5.9030e-05\n",
            "Epoch 72/80\n",
            "50/50 [==============================] - ETA: 0s - loss: 0.0475 - accuracy: 0.9850 - recall: 0.9474 - precision: 1.0000\n",
            "Epoch 72: val_recall did not improve from 0.92857\n",
            "\n",
            "Epoch 72: ReduceLROnPlateau reducing learning rate to 4.722367157228291e-05.\n",
            "50/50 [==============================] - 22s 452ms/step - loss: 0.0475 - accuracy: 0.9850 - recall: 0.9474 - precision: 1.0000 - val_loss: 0.0159 - val_accuracy: 0.9992 - val_recall: 0.9971 - val_precision: 1.0000 - lr: 5.9030e-05\n",
            "Epoch 73/80\n",
            "50/50 [==============================] - ETA: 0s - loss: 0.0097 - accuracy: 1.0000 - recall: 1.0000 - precision: 1.0000\n",
            "Epoch 73: val_recall did not improve from 0.92857\n",
            "50/50 [==============================] - 23s 467ms/step - loss: 0.0097 - accuracy: 1.0000 - recall: 1.0000 - precision: 1.0000 - val_loss: 0.0152 - val_accuracy: 0.9992 - val_recall: 0.9971 - val_precision: 1.0000 - lr: 4.7224e-05\n",
            "Epoch 74/80\n",
            "50/50 [==============================] - ETA: 0s - loss: 0.0136 - accuracy: 1.0000 - recall: 1.0000 - precision: 1.0000\n",
            "Epoch 74: val_recall did not improve from 0.92857\n",
            "50/50 [==============================] - 23s 466ms/step - loss: 0.0136 - accuracy: 1.0000 - recall: 1.0000 - precision: 1.0000 - val_loss: 0.0145 - val_accuracy: 0.9992 - val_recall: 0.9971 - val_precision: 1.0000 - lr: 4.7224e-05\n",
            "Epoch 75/80\n",
            "50/50 [==============================] - ETA: 0s - loss: 0.0084 - accuracy: 1.0000 - recall: 1.0000 - precision: 1.0000\n",
            "Epoch 75: val_recall did not improve from 0.92857\n",
            "\n",
            "Epoch 75: ReduceLROnPlateau reducing learning rate to 3.777893725782633e-05.\n",
            "50/50 [==============================] - 22s 447ms/step - loss: 0.0084 - accuracy: 1.0000 - recall: 1.0000 - precision: 1.0000 - val_loss: 0.0141 - val_accuracy: 0.9992 - val_recall: 0.9971 - val_precision: 1.0000 - lr: 4.7224e-05\n",
            "Epoch 76/80\n",
            "50/50 [==============================] - ETA: 0s - loss: 0.0208 - accuracy: 0.9950 - recall: 0.9778 - precision: 1.0000\n",
            "Epoch 76: val_recall did not improve from 0.92857\n",
            "50/50 [==============================] - 25s 507ms/step - loss: 0.0208 - accuracy: 0.9950 - recall: 0.9778 - precision: 1.0000 - val_loss: 0.0138 - val_accuracy: 0.9992 - val_recall: 0.9971 - val_precision: 1.0000 - lr: 3.7779e-05\n",
            "Epoch 77/80\n",
            "50/50 [==============================] - ETA: 0s - loss: 0.0937 - accuracy: 0.9850 - recall: 0.9508 - precision: 1.0000\n",
            "Epoch 77: val_recall did not improve from 0.92857\n",
            "50/50 [==============================] - 23s 464ms/step - loss: 0.0937 - accuracy: 0.9850 - recall: 0.9508 - precision: 1.0000 - val_loss: 0.0131 - val_accuracy: 0.9992 - val_recall: 0.9971 - val_precision: 1.0000 - lr: 3.7779e-05\n",
            "Epoch 78/80\n",
            "50/50 [==============================] - ETA: 0s - loss: 0.0711 - accuracy: 0.9950 - recall: 0.9841 - precision: 1.0000\n",
            "Epoch 78: val_recall did not improve from 0.92857\n",
            "\n",
            "Epoch 78: ReduceLROnPlateau reducing learning rate to 3.0223149224184453e-05.\n",
            "50/50 [==============================] - 25s 508ms/step - loss: 0.0711 - accuracy: 0.9950 - recall: 0.9841 - precision: 1.0000 - val_loss: 0.0126 - val_accuracy: 0.9992 - val_recall: 0.9971 - val_precision: 1.0000 - lr: 3.7779e-05\n",
            "Epoch 79/80\n",
            "50/50 [==============================] - ETA: 0s - loss: 0.0085 - accuracy: 1.0000 - recall: 1.0000 - precision: 1.0000\n",
            "Epoch 79: val_recall did not improve from 0.92857\n",
            "50/50 [==============================] - 22s 442ms/step - loss: 0.0085 - accuracy: 1.0000 - recall: 1.0000 - precision: 1.0000 - val_loss: 0.0123 - val_accuracy: 0.9992 - val_recall: 0.9971 - val_precision: 1.0000 - lr: 3.0223e-05\n",
            "Epoch 80/80\n",
            "50/50 [==============================] - ETA: 0s - loss: 0.0233 - accuracy: 0.9900 - recall: 0.9815 - precision: 0.9815\n",
            "Epoch 80: val_recall did not improve from 0.92857\n",
            "50/50 [==============================] - 23s 460ms/step - loss: 0.0233 - accuracy: 0.9900 - recall: 0.9815 - precision: 0.9815 - val_loss: 0.0121 - val_accuracy: 0.9992 - val_recall: 0.9971 - val_precision: 1.0000 - lr: 3.0223e-05\n"
          ]
        }
      ],
      "source": [
        "EPOCHS = 80\n",
        "\n",
        "history_1 = model.fit(\n",
        "        train_generator,\n",
        "        steps_per_epoch=50,\n",
        "        epochs=EPOCHS,\n",
        "        verbose=1,\n",
        "        validation_data = validation_generator,\n",
        "        callbacks=[checkpoint, reduce_lr]\n",
        "        )"
      ],
      "id": "4903465d"
    },
    {
      "cell_type": "code",
      "source": [],
      "metadata": {
        "id": "7jrgLCDoSq8V"
      },
      "id": "7jrgLCDoSq8V",
      "execution_count": null,
      "outputs": []
    },
    {
      "cell_type": "code",
      "source": [
        "# plot model performance\n",
        "acc = history_1.history['accuracy']\n",
        "val_acc = history_1.history['val_accuracy']\n",
        "loss = history_1.history['loss']\n",
        "val_loss = history_1.history['val_loss']\n",
        "epochs_range = range(1, len(history_1.epoch) + 1)\n",
        "\n",
        "plt.figure(figsize=(15,5))\n",
        "\n",
        "plt.subplot(1, 2, 1)\n",
        "plt.plot(epochs_range, acc, label='Train Set')\n",
        "plt.plot(epochs_range, val_acc, label='Val Set')\n",
        "plt.legend(loc=\"best\")\n",
        "plt.xlabel('Epochs')\n",
        "plt.ylabel('Accuracy')\n",
        "plt.title('Model Accuracy')\n",
        "\n",
        "plt.subplot(1, 2, 2)\n",
        "plt.plot(epochs_range, loss, label='Train Set')\n",
        "plt.plot(epochs_range, val_loss, label='Val Set')\n",
        "plt.legend(loc=\"best\")\n",
        "plt.xlabel('Epochs')\n",
        "plt.ylabel('Loss')\n",
        "plt.title('Model Loss')\n",
        "\n",
        "plt.tight_layout()\n",
        "plt.show()"
      ],
      "metadata": {
        "id": "uBbkEenC2KTV",
        "colab": {
          "base_uri": "https://localhost:8080/",
          "height": 341
        },
        "outputId": "53623082-942f-446f-931f-c71ce91bd82a"
      },
      "id": "uBbkEenC2KTV",
      "execution_count": 15,
      "outputs": [
        {
          "output_type": "display_data",
          "data": {
            "text/plain": [
              "<Figure size 1500x500 with 2 Axes>"
            ],
            "image/png": "[encoded data removed]"
          },
          "metadata": {}
        }
      ]
    },
    {
      "cell_type": "code",
      "source": [
        "# plot model performance\n",
        "acc = history_1.history['recall']\n",
        "val_acc = history_1.history['val_recall']\n",
        "loss = history_1.history['precision']\n",
        "val_loss = history_1.history['val_precision']\n",
        "epochs_range = range(1, len(history_1.epoch) + 1)\n",
        "\n",
        "plt.figure(figsize=(15,5))\n",
        "\n",
        "plt.subplot(1, 2, 1)\n",
        "plt.plot(epochs_range, acc, label='Train Set')\n",
        "plt.plot(epochs_range, val_acc, label='Val Set')\n",
        "plt.legend(loc=\"best\")\n",
        "plt.xlabel('Epochs')\n",
        "plt.ylabel('recall')\n",
        "plt.title('Model recall')\n",
        "\n",
        "plt.subplot(1, 2, 2)\n",
        "plt.plot(epochs_range, loss, label='Train Set')\n",
        "plt.plot(epochs_range, val_loss, label='Val Set')\n",
        "plt.legend(loc=\"best\")\n",
        "plt.xlabel('Epochs')\n",
        "plt.ylabel('Precision')\n",
        "plt.title('Model Precision')\n",
        "\n",
        "plt.tight_layout()\n",
        "plt.show()"
      ],
      "metadata": {
        "colab": {
          "base_uri": "https://localhost:8080/",
          "height": 341
        },
        "id": "gxkT5QrrcuNT",
        "outputId": "02278ca2-3770-4a07-ef2f-02880d4918b5"
      },
      "id": "gxkT5QrrcuNT",
      "execution_count": 16,
      "outputs": [
        {
          "output_type": "display_data",
          "data": {
            "text/plain": [
              "<Figure size 1500x500 with 2 Axes>"
            ],
            "image/png": "[encoded data removed]"
          },
          "metadata": {}
        }
      ]
    },
    {
      "cell_type": "code",
      "source": [],
      "metadata": {
        "id": "xF3vLSewdT-0"
      },
      "id": "xF3vLSewdT-0",
      "execution_count": null,
      "outputs": []
    }
  ],
  "metadata": {
    "accelerator": "GPU",
    "colab": {
      "provenance": [],
      "include_colab_link": true
    },
    "kernelspec": {
      "display_name": "Python 3",
      "name": "python3"
    },
    "language_info": {
      "codemirror_mode": {
        "name": "ipython",
        "version": 3
      },
      "file_extension": ".py",
      "mimetype": "text/x-python",
      "name": "python",
      "nbconvert_exporter": "python",
      "pygments_lexer": "ipython3",
      "version": "3.9.7"
    }
  },
  "nbformat": 4,
  "nbformat_minor": 5
}